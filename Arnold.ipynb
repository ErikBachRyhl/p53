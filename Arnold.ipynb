{
 "cells": [
  {
   "cell_type": "code",
   "execution_count": 43,
   "metadata": {},
   "outputs": [],
   "source": [
    "import numpy as np\n",
    "import matplotlib.pyplot as plt"
   ]
  },
  {
   "cell_type": "code",
   "execution_count": 39,
   "metadata": {},
   "outputs": [
    {
     "name": "stdout",
     "output_type": "stream",
     "text": [
      "Det ønskede antal simulationer er: 100\n"
     ]
    }
   ],
   "source": [
    "antal_omegaer = 10\n",
    "omega_list = np.array(np.linspace(0 , 3, antal_omegaer))\n",
    "\n",
    "antal_A_ext = 10\n",
    "A_ext_list = np.array(np.linspace(0, 1, antal_A_ext))\n",
    "\n",
    "antal_simulationer_arnold = antal_omegaer * antal_A_ext\n",
    "print(\"Det ønskede antal simulationer er:\", antal_simulationer_arnold)"
   ]
  },
  {
   "cell_type": "code",
   "execution_count": null,
   "metadata": {},
   "outputs": [],
   "source": [
    "def sim_onoff_nutlin(oscillationer, T_int, OOmega, p0, m0, Mf0, Mb0, A_ext):\n",
    "    # This is correct, and it is working! Remember to count in period values, not frequency! If you count in frequency, you are counting the reciprocal.\n",
    "    T_ext = OOmega * T_int\n",
    "    omega = T_int / T_ext\n",
    "\n",
    "    history = {\"t\":[] ,\"p\": [], \"m\": [], \"Mf\": [], \"Mb\":[], \"n\":[]}\n",
    "\n",
    "    # TODO: Undersøg max_step i fremtiden\n",
    "    for i in range(oscillationer):\n",
    "        if i == 0:\n",
    "            state = p0, m0, Mf0, Mb0, A_ext\n",
    "            sys = solve_ivp(samlet_system, (0, T_ext), state, method='RK45', max_step=5, dense_output=True)\n",
    "            t, p, m, Mf, Mb, n = np.array(sys[\"t\"]), sys[\"y\"][0], sys[\"y\"][1], sys[\"y\"][2], sys[\"y\"][3], sys[\"y\"][4]\n",
    "            history[\"t\"].extend(t)\n",
    "            history[\"p\"].extend(p)\n",
    "            history[\"m\"].extend(m)\n",
    "            history[\"Mf\"].extend(Mf)\n",
    "            history[\"Mb\"].extend(Mb)\n",
    "            history[\"n\"].extend(n)\n",
    "        \n",
    "        # Every period, Nutlin concentration is reset to A_ext\n",
    "        state = history[\"p\"][-1], history[\"m\"][-1], history[\"Mf\"][-1], history[\"Mb\"][-1], A_ext\n",
    "        sys = solve_ivp(samlet_system, (0, T_ext), state, method='RK45', max_step=5, dense_output=True)\n",
    "        t, p, m, Mf, Mb, n = np.array(sys[\"t\"]), sys[\"y\"][0], sys[\"y\"][1], sys[\"y\"][2], sys[\"y\"][3], sys[\"y\"][4]\n",
    "        history[\"t\"].extend(t + history[\"t\"][-1])\n",
    "        history[\"p\"].extend(p)\n",
    "        history[\"m\"].extend(m)\n",
    "        history[\"Mf\"].extend(Mf)\n",
    "        history[\"Mb\"].extend(Mb)\n",
    "        history[\"n\"].extend(n)\n",
    "    \n",
    "    return history, omega, T_ext"
   ]
  },
  {
   "cell_type": "code",
   "execution_count": null,
   "metadata": {},
   "outputs": [],
   "source": [
    "# Funktionen tager omega-arrayet og A_ext-arrayet.\n",
    "\n",
    "def arnold_tongue_simulering(omega_list, A_ext_list):\n",
    "    #Dette er systemet, vi kigger på inden nutlin tændes:\n",
    "    T_intern, p0, m0, Mf0, Mb0 = T_int, p_transient[-1], m_transient[-1], Mf_transient[-1], Mb_transient[-1]\n",
    "\n",
    "    # Et dictionary til simulationerne defineres:\n",
    "    arnold_tongue_dict = {\"Omega\":[], \"A_ext\":[], \"simulation\":[], \"entrainment_value\":[]}\n",
    "\n",
    "    # Nutlin tændes for dette system med alle kombinationer af omega og A_ext\n",
    "    for i in range(len(omega_list)):\n",
    "\n",
    "        oscillationer = 50\n",
    "\n",
    "        simulation, _, _ = sim_onoff_nutlin(oscillationer, T_intern, omega_list[i], p0, m0, Mf0, Mb0, A_ext_list[i])\n",
    "\n",
    "        arnold_tongue_dict[\"Omega\"].extend(omega_list[i])\n",
    "        arnold_tongue_dict[\"A_ext\"].extend(A_ext_list[i])\n",
    "        arnold_tongue_dict[\"simulation\"].extend(simulation)\n",
    "    \n",
    "    # Nu skal det afgøres, hvorvidt simulationen bliver entrained – og i så fald til hvilken værdi.\n",
    "    # INDSÆT HER::::::::::::::::::::::::::::\n",
    "    #\n",
    "        \n",
    "    return arnold_tongue_dict\n"
   ]
  }
 ],
 "metadata": {
  "kernelspec": {
   "display_name": "base",
   "language": "python",
   "name": "python3"
  },
  "language_info": {
   "codemirror_mode": {
    "name": "ipython",
    "version": 3
   },
   "file_extension": ".py",
   "mimetype": "text/x-python",
   "name": "python",
   "nbconvert_exporter": "python",
   "pygments_lexer": "ipython3",
   "version": "3.11.4"
  }
 },
 "nbformat": 4,
 "nbformat_minor": 2
}
