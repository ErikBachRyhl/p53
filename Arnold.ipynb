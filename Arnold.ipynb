{
 "cells": [
  {
   "cell_type": "code",
   "execution_count": 125,
   "metadata": {},
   "outputs": [],
   "source": [
    "import numpy as np\n",
    "import matplotlib.pyplot as plt\n",
    "from scipy.integrate import solve_ivp\n",
    "from scipy.signal import find_peaks\n",
    "from tqdm import tqdm\n",
    "import h5py\n",
    "from multiprocessing import Pool\n",
    "\n",
    "import pickle\n",
    "import gzip\n",
    "from matplotlib import rc\n",
    "import warnings\n",
    "\n",
    "plt.style.use('seaborn-v0_8-white')\n",
    "rc('font',**{'family':'serif','serif':['Times']})\n",
    "rc('text', usetex=True)\n",
    "warnings.filterwarnings(\"ignore\")"
   ]
  },
  {
   "cell_type": "code",
   "execution_count": 39,
   "metadata": {},
   "outputs": [],
   "source": [
    "# Simulation params\n",
    "vi = 0.01\n",
    "Vol = vi*10**(-14); NA = 6.02*10**(23); Cal = NA*Vol*10**(-6)\n",
    "TC = 0.158\n",
    "kc1 = 0.15*Cal*TC\n",
    "# production of p53 [molecules/min]\n",
    "kc2 = 0.1*TC\n",
    "# degradation of p53 by mdm2 [1/min]\n",
    "kc3 = 0.1*Cal\n",
    "# degradation of p53 by mdm2 [molecules]\n",
    "kc4 = 0.1/Cal*TC\n",
    "# production of mdm2 - mRNA [1/(molecules*min)]\n",
    "kc5 = 0.1*TC \n",
    "# degradation of mdm2 - mRNA [1/min]\n",
    "kc6 = 0.2*TC \n",
    "# production of mdm2 [1/min]\n",
    "kc7 = 0.1*TC \n",
    "# degradation of mdm2 [1/min]\n",
    "kc8 = 0.0036 \n",
    "# binding of mdm2 and nutlin [1/(molecules*min)]\n",
    "\n",
    "p_transient, m_transient, Mf_transient, Mb_transient = (68.7677614186749, 39.447611187479886, 62.52296546950754, -1.4584740455754785e-07)\n",
    "T_int, A_int = (329.1125843870209, 32.35464308364189) # These are from the initial conditions found in \"Nutlin-tilføjelse.ipynb\" so we don't have to run a new transient every time."
   ]
  },
  {
   "cell_type": "code",
   "execution_count": 40,
   "metadata": {},
   "outputs": [],
   "source": [
    "# Equations\n",
    "def p_change(t, p, m, Mf, Mb, n):\n",
    "    dpdt = kc1 - kc2*Mf*(p / (kc3 + p))\n",
    "    return dpdt\n",
    "\n",
    "def m_change(t, p, m, Mf, Mb, n):\n",
    "    dmdt = (kc4 * p**2 - kc5 * m)\n",
    "    return dmdt\n",
    "\n",
    "def M_free_change(t, p, m, Mf, Mb, n):\n",
    "    dM_freedt = kc6 * m - kc7 * Mf - kc8*n*Mf\n",
    "    return dM_freedt\n",
    "\n",
    "def M_bound_change(t, p, m, Mf, Mb, n):\n",
    "    dM_bounddt = - kc7*Mb + kc8*n*Mf\n",
    "    return dM_bounddt\n",
    "\n",
    "def n_change(t, p, m, Mf, Mb, n):\n",
    "    dndt = -kc8*n*Mf\n",
    "    return dndt\n",
    "\n",
    "def samlet_system(t, y):\n",
    "    dydt = np.zeros_like(y)\n",
    "    dydt[0] = p_change(t, *y)\n",
    "    dydt[1] = m_change(t, *y)\n",
    "    dydt[2] = M_free_change(t, *y)\n",
    "    dydt[3] = M_bound_change(t, *y)\n",
    "    dydt[4] = n_change(t, *y)\n",
    "    return dydt"
   ]
  },
  {
   "cell_type": "code",
   "execution_count": 41,
   "metadata": {},
   "outputs": [],
   "source": [
    "def sim_onoff_nutlin(oscillationer, OOmega, A_ext):\n",
    "    # This is correct, and it is working! Remember to count in period values, not frequency! If you count in frequency, you are counting the reciprocal.\n",
    "    T_ext = OOmega * T_int\n",
    "    theoretical_small_omega = T_int / T_ext # Is this correct?\n",
    "\n",
    "    history = {\"t\":[] ,\"p\": [], \"m\": [], \"Mf\": [], \"Mb\":[], \"n\":[]}\n",
    "\n",
    "    for i in range(oscillationer):\n",
    "        if i == 0:\n",
    "            state = p_transient, m_transient, Mf_transient, Mb_transient, A_ext\n",
    "            sys = solve_ivp(samlet_system, (0, T_ext), state, method='RK45', max_step=5, dense_output=True)\n",
    "            t, p, m, Mf, Mb, n = np.array(sys[\"t\"]), sys[\"y\"][0], sys[\"y\"][1], sys[\"y\"][2], sys[\"y\"][3], sys[\"y\"][4]\n",
    "            history[\"t\"].extend(t)\n",
    "            history[\"p\"].extend(p)\n",
    "            history[\"m\"].extend(m)\n",
    "            history[\"Mf\"].extend(Mf)\n",
    "            history[\"Mb\"].extend(Mb)\n",
    "            history[\"n\"].extend(n)\n",
    "        \n",
    "        # Every period, Nutlin concentration is reset to A_ext\n",
    "        state = history[\"p\"][-1], history[\"m\"][-1], history[\"Mf\"][-1], history[\"Mb\"][-1], A_ext\n",
    "        sys = solve_ivp(samlet_system, (0, T_ext), state, method='RK45', max_step=5, dense_output=True)\n",
    "        t, p, m, Mf, Mb, n = np.array(sys[\"t\"]), sys[\"y\"][0], sys[\"y\"][1], sys[\"y\"][2], sys[\"y\"][3], sys[\"y\"][4]\n",
    "        history[\"t\"].extend(t + history[\"t\"][-1])\n",
    "        history[\"p\"].extend(p)\n",
    "        history[\"m\"].extend(m)\n",
    "        history[\"Mf\"].extend(Mf)\n",
    "        history[\"Mb\"].extend(Mb)\n",
    "        history[\"n\"].extend(n)\n",
    "    \n",
    "    return history, theoretical_small_omega, T_ext"
   ]
  },
  {
   "cell_type": "code",
   "execution_count": 98,
   "metadata": {},
   "outputs": [],
   "source": [
    "# Takes in arrays with Omegas and Coupling Strengths to simulate with\n",
    "def arnold_tongue_simulering(omega_list, coupling_strength_list, A_ext_list):\n",
    "    # All the tongues which we are interested in\n",
    "    all_tongues = [0.5, 1, 1.5, 2]\n",
    "\n",
    "    # A dictionary for storing the simulations\n",
    "    arnold_tongue_dict = {\"Tongue\": [], \"Omega\": [], \"coupling_strength\": [], \"A_ext\":[], \"entrainment_value\":[], \"exception\": []}\n",
    "\n",
    "    # Run simulation for all combinations\n",
    "    for i in tqdm(range(len(omega_list))):\n",
    "        for j in range(len(A_ext_list)):\n",
    "            oscillationer = 200\n",
    "\n",
    "            simulation, _, _ = sim_onoff_nutlin(oscillationer, omega_list[i], A_ext_list[j])\n",
    "            _, p_sim, _, _, _, n_sim = np.array(simulation[\"t\"]), np.array(simulation[\"p\"]), np.array(simulation[\"m\"]), np.array(simulation[\"Mb\"]), np.array(simulation[\"Mf\"]), np.array(simulation[\"n\"])\n",
    "\n",
    "            # Apply a small window and require peak higher than mean\n",
    "            window = 500\n",
    "            peaks_internal = len(find_peaks(p_sim[window:], height=np.mean(p_sim))[0])\n",
    "            peaks_external = len(find_peaks(n_sim[window:], height=np.mean(n_sim))[0])\n",
    "            \n",
    "            Omega_ratio = 0\n",
    "            exception = False\n",
    "            \n",
    "            # If for some reason this fraction throws an error, we log it instead of the simulation just crashing\n",
    "            try:\n",
    "                # 1/Omega because we are using frequency, which is 1/T\n",
    "                Omega_ratio = peaks_internal/peaks_external\n",
    "            except:\n",
    "                exception = True\n",
    "\n",
    "            # We chose this as our accuracy to begin with, but it seems like we are getting results which resembles the ground \"truth\", so we are happy with it so far\n",
    "            rounded_ratio = np.round(Omega_ratio, 2)\n",
    "\n",
    "            entrainment = 0 # Corresponds to no entrainment\n",
    "\n",
    "            # Arbritrary threshold, we hope it works. But it is symmetric here, so we don't understand why the entrainment is shifted.\n",
    "            for tongue_value in all_tongues:\n",
    "                if tongue_value - 1e-2 <= rounded_ratio <= tongue_value + 1e-2:\n",
    "                    entrainment = tongue_value\n",
    "\n",
    "            # DEBUGGING PRINTS\n",
    "            # print(rounded_ratio)\n",
    "            # print(\"Current Omega: \", omega_list[i])\n",
    "            # print(\"Current Nutlin Amplitude: \", A_ext_list[j])\n",
    "            # print(\"Entrainment: \", entrainment)\n",
    "\n",
    "            arnold_tongue_dict[\"Omega\"].append(omega_list[i])\n",
    "            arnold_tongue_dict[\"coupling_strength\"].append(coupling_strength_list[j])\n",
    "            arnold_tongue_dict[\"A_ext\"].append(A_ext_list[j])\n",
    "            arnold_tongue_dict[\"entrainment_value\"].append(entrainment)\n",
    "            arnold_tongue_dict[\"exception\"].append(exception)\n",
    "    \n",
    "    return arnold_tongue_dict\n"
   ]
  },
  {
   "cell_type": "markdown",
   "metadata": {},
   "source": [
    "# Til enkelte tests"
   ]
  },
  {
   "cell_type": "code",
   "execution_count": 108,
   "metadata": {},
   "outputs": [
    {
     "name": "stdout",
     "output_type": "stream",
     "text": [
      "Det ønskede antal simulationer er: 400\n",
      "Key:  20x20\n"
     ]
    }
   ],
   "source": [
    "antal_omegaer = 20\n",
    "\n",
    "omega_list = np.array(np.linspace(0.01, 2.5, antal_omegaer))\n",
    "# tounge_one = np.array(np.linspace(0.75, 1.24, antal_omegaer))\n",
    "# tounge_three_halves = np.array(np.linspace(1.25, 1.74, antal_omegaer))\n",
    "# tounge_two = np.array(np.linspace(1.75, 2.25, antal_omegaer))\n",
    "# omega_list = np.concatenate((tounge_half, tounge_one, tounge_three_halves, tounge_two))\n",
    "\n",
    "antal_A_ext = 20\n",
    "coupling_strengths = np.array(np.linspace(0.3, 5, antal_A_ext))\n",
    "A_ext_list = coupling_strengths * A_int # A_ext = A_int * coupling strenght\n",
    "\n",
    "resolution = f'{antal_omegaer}x{antal_A_ext}'\n",
    "\n",
    "antal_simulationer_arnold = len(omega_list) * antal_A_ext\n",
    "print(\"Det ønskede antal simulationer er:\", antal_simulationer_arnold)\n",
    "print(\"Key: \", resolution)"
   ]
  },
  {
   "cell_type": "code",
   "execution_count": null,
   "metadata": {},
   "outputs": [],
   "source": [
    "arnold_dict = arnold_tongue_simulering(omega_list, coupling_strengths, A_ext_list)"
   ]
  },
  {
   "cell_type": "markdown",
   "metadata": {},
   "source": [
    "# Nyt loading"
   ]
  },
  {
   "cell_type": "code",
   "execution_count": 130,
   "metadata": {},
   "outputs": [],
   "source": [
    "def load_data(filename):\n",
    "    with gzip.open(filename, 'rb') as f:\n",
    "        data = pickle.load(f)\n",
    "    return data\n",
    "\n",
    "# Example usage\n",
    "loaded_data = load_data('arnold_sims/arnold_tongue_dict_latest.pkl.gz')\n",
    "# Now you can use 'loaded_data' for plotting or analysis"
   ]
  },
  {
   "cell_type": "code",
   "execution_count": 131,
   "metadata": {},
   "outputs": [],
   "source": [
    "Omegas_tested = arnold_dict[\"Omega\"]\n",
    "Coupling_strengths_tested = arnold_dict[\"coupling_strength\"]\n",
    "A_ext_tested = arnold_dict[\"A_ext\"]\n",
    "Entrainments = arnold_dict[\"entrainment_value\"]\n",
    "Exceptions = arnold_dict[\"exception\"]\n",
    "\n",
    "color_map = [\n",
    "    'C0' if entrainment == 0.5 else\n",
    "    'C1' if entrainment == 1 else\n",
    "    'C2' if entrainment == 1.5 else\n",
    "    'C6' if entrainment == 2 else\n",
    "    'red' if Exceptions[i] == True else\n",
    "    'gray'\n",
    "    for i, entrainment in enumerate(Entrainments)\n",
    "]"
   ]
  },
  {
   "cell_type": "code",
   "execution_count": 136,
   "metadata": {},
   "outputs": [
    {
     "data": {
      "text/plain": [
       "Text(0.5, 0, 'External / Internal Period')"
      ]
     },
     "execution_count": 136,
     "metadata": {},
     "output_type": "execute_result"
    },
    {
     "data": {
      "image/png": "[encoded data removed]",
      "text/plain": [
       "<Figure size 1400x800 with 1 Axes>"
      ]
     },
     "metadata": {},
     "output_type": "display_data"
    }
   ],
   "source": [
    "plt.figure(figsize=(14,8))\n",
    "\n",
    "plt.scatter(Omegas_tested, Coupling_strengths_tested, c=color_map, s=40, marker=\"s\")\n",
    "\n",
    "plt.title(\"Arnold Tongues\", fontsize=20)\n",
    "plt.ylabel(\"Coupling Strength\", fontsize=16)\n",
    "plt.xlabel(\"External / Internal Period\", fontsize=16)"
   ]
  },
  {
   "cell_type": "code",
   "execution_count": null,
   "metadata": {},
   "outputs": [],
   "source": []
  }
 ],
 "metadata": {
  "kernelspec": {
   "display_name": "base",
   "language": "python",
   "name": "python3"
  },
  "language_info": {
   "codemirror_mode": {
    "name": "ipython",
    "version": 3
   },
   "file_extension": ".py",
   "mimetype": "text/x-python",
   "name": "python",
   "nbconvert_exporter": "python",
   "pygments_lexer": "ipython3",
   "version": "3.11.4"
  }
 },
 "nbformat": 4,
 "nbformat_minor": 2
}
