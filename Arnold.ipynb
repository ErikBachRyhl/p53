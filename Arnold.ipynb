{
 "cells": [
  {
   "cell_type": "code",
   "execution_count": 125,
   "metadata": {},
   "outputs": [],
   "source": [
    "import numpy as np\n",
    "import matplotlib.pyplot as plt\n",
    "from scipy.integrate import solve_ivp\n",
    "from scipy.signal import find_peaks\n",
    "from tqdm import tqdm\n",
    "import h5py\n",
    "from multiprocessing import Pool\n",
    "\n",
    "import pickle\n",
    "import gzip\n",
    "from matplotlib import rc\n",
    "import warnings\n",
    "\n",
    "plt.style.use('seaborn-v0_8-white')\n",
    "rc('font',**{'family':'serif','serif':['Times']})\n",
    "rc('text', usetex=True)\n",
    "warnings.filterwarnings(\"ignore\")"
   ]
  },
  {
   "cell_type": "code",
   "execution_count": 39,
   "metadata": {},
   "outputs": [],
   "source": [
    "# Simulation params\n",
    "vi = 0.01\n",
    "Vol = vi*10**(-14); NA = 6.02*10**(23); Cal = NA*Vol*10**(-6)\n",
    "TC = 0.158\n",
    "kc1 = 0.15*Cal*TC\n",
    "# production of p53 [molecules/min]\n",
    "kc2 = 0.1*TC\n",
    "# degradation of p53 by mdm2 [1/min]\n",
    "kc3 = 0.1*Cal\n",
    "# degradation of p53 by mdm2 [molecules]\n",
    "kc4 = 0.1/Cal*TC\n",
    "# production of mdm2 - mRNA [1/(molecules*min)]\n",
    "kc5 = 0.1*TC \n",
    "# degradation of mdm2 - mRNA [1/min]\n",
    "kc6 = 0.2*TC \n",
    "# production of mdm2 [1/min]\n",
    "kc7 = 0.1*TC \n",
    "# degradation of mdm2 [1/min]\n",
    "kc8 = 0.0036 \n",
    "# binding of mdm2 and nutlin [1/(molecules*min)]\n",
    "\n",
    "p_transient, m_transient, Mf_transient, Mb_transient = (68.7677614186749, 39.447611187479886, 62.52296546950754, -1.4584740455754785e-07)\n",
    "T_int, A_int = (329.1125843870209, 32.35464308364189) # These are from the initial conditions found in \"Nutlin-tilføjelse.ipynb\" so we don't have to run a new transient every time."
   ]
  },
  {
   "cell_type": "code",
   "execution_count": 40,
   "metadata": {},
   "outputs": [],
   "source": [
    "# Equations\n",
    "def p_change(t, p, m, Mf, Mb, n):\n",
    "    dpdt = kc1 - kc2*Mf*(p / (kc3 + p))\n",
    "    return dpdt\n",
    "\n",
    "def m_change(t, p, m, Mf, Mb, n):\n",
    "    dmdt = (kc4 * p**2 - kc5 * m)\n",
    "    return dmdt\n",
    "\n",
    "def M_free_change(t, p, m, Mf, Mb, n):\n",
    "    dM_freedt = kc6 * m - kc7 * Mf - kc8*n*Mf\n",
    "    return dM_freedt\n",
    "\n",
    "def M_bound_change(t, p, m, Mf, Mb, n):\n",
    "    dM_bounddt = - kc7*Mb + kc8*n*Mf\n",
    "    return dM_bounddt\n",
    "\n",
    "def n_change(t, p, m, Mf, Mb, n):\n",
    "    dndt = -kc8*n*Mf\n",
    "    return dndt\n",
    "\n",
    "def samlet_system(t, y):\n",
    "    dydt = np.zeros_like(y)\n",
    "    dydt[0] = p_change(t, *y)\n",
    "    dydt[1] = m_change(t, *y)\n",
    "    dydt[2] = M_free_change(t, *y)\n",
    "    dydt[3] = M_bound_change(t, *y)\n",
    "    dydt[4] = n_change(t, *y)\n",
    "    return dydt"
   ]
  },
  {
   "cell_type": "code",
   "execution_count": 41,
   "metadata": {},
   "outputs": [],
   "source": [
    "def sim_onoff_nutlin(oscillationer, OOmega, A_ext):\n",
    "    # This is correct, and it is working! Remember to count in period values, not frequency! If you count in frequency, you are counting the reciprocal.\n",
    "    T_ext = OOmega * T_int\n",
    "    theoretical_small_omega = T_int / T_ext # Is this correct?\n",
    "\n",
    "    history = {\"t\":[] ,\"p\": [], \"m\": [], \"Mf\": [], \"Mb\":[], \"n\":[]}\n",
    "\n",
    "    for i in range(oscillationer):\n",
    "        if i == 0:\n",
    "            state = p_transient, m_transient, Mf_transient, Mb_transient, A_ext\n",
    "            sys = solve_ivp(samlet_system, (0, T_ext), state, method='RK45', max_step=5, dense_output=True)\n",
    "            t, p, m, Mf, Mb, n = np.array(sys[\"t\"]), sys[\"y\"][0], sys[\"y\"][1], sys[\"y\"][2], sys[\"y\"][3], sys[\"y\"][4]\n",
    "            history[\"t\"].extend(t)\n",
    "            history[\"p\"].extend(p)\n",
    "            history[\"m\"].extend(m)\n",
    "            history[\"Mf\"].extend(Mf)\n",
    "            history[\"Mb\"].extend(Mb)\n",
    "            history[\"n\"].extend(n)\n",
    "        \n",
    "        # Every period, Nutlin concentration is reset to A_ext\n",
    "        state = history[\"p\"][-1], history[\"m\"][-1], history[\"Mf\"][-1], history[\"Mb\"][-1], A_ext\n",
    "        sys = solve_ivp(samlet_system, (0, T_ext), state, method='RK45', max_step=5, dense_output=True)\n",
    "        t, p, m, Mf, Mb, n = np.array(sys[\"t\"]), sys[\"y\"][0], sys[\"y\"][1], sys[\"y\"][2], sys[\"y\"][3], sys[\"y\"][4]\n",
    "        history[\"t\"].extend(t + history[\"t\"][-1])\n",
    "        history[\"p\"].extend(p)\n",
    "        history[\"m\"].extend(m)\n",
    "        history[\"Mf\"].extend(Mf)\n",
    "        history[\"Mb\"].extend(Mb)\n",
    "        history[\"n\"].extend(n)\n",
    "    \n",
    "    return history, theoretical_small_omega, T_ext"
   ]
  },
  {
   "cell_type": "code",
   "execution_count": 120,
   "metadata": {},
   "outputs": [],
   "source": [
    "# Worker function to be executed by each process\n",
    "def worker(args):\n",
    "    omega_list, coupling_strength_list, A_ext_list = args\n",
    "    all_tongues = [0.5, 1, 1.5, 2]\n",
    "    arnold_tongue_dict = {\"Omega\": [], \"coupling_strength\": [], \"A_ext\": [], \"entrainment_value\": [], \"exception\": []}\n",
    "    \n",
    "    for i in tqdm(range(len(omega_list))):\n",
    "        for A_ext in A_ext_list:\n",
    "            oscillationer = 200\n",
    "\n",
    "            simulation, _, _ = sim_onoff_nutlin(oscillationer, omega_list[i], A_ext_list)\n",
    "            _, p_sim, _, _, _, n_sim = np.array(simulation[\"t\"]), np.array(simulation[\"p\"]), np.array(simulation[\"m\"]), np.array(simulation[\"Mb\"]), np.array(simulation[\"Mf\"]), np.array(simulation[\"n\"])\n",
    "\n",
    "            # Apply a small window and require peak higher than mean\n",
    "            window = 500\n",
    "            peaks_internal = len(find_peaks(p_sim[window:], height=np.mean(p_sim))[0])\n",
    "            peaks_external = len(find_peaks(n_sim[window:], height=np.mean(n_sim))[0])\n",
    "            \n",
    "            Omega_ratio = 0\n",
    "            exception = False\n",
    "            \n",
    "            # If for some reason this fraction throws an error, we log it instead of the simulation just crashing\n",
    "            try:\n",
    "                # 1/Omega because we are using frequency, which is 1/T\n",
    "                Omega_ratio = peaks_internal/peaks_external\n",
    "            except:\n",
    "                exception = True\n",
    "\n",
    "            # We chose this as our accuracy to begin with, but it seems like we are getting results which resembles the ground \"truth\", so we are happy with it so far\n",
    "            rounded_ratio = np.round(Omega_ratio, 2)\n",
    "\n",
    "            entrainment = 0 # Corresponds to no entrainment\n",
    "\n",
    "            # Arbritrary threshold, we hope it works. But it is symmetric here, so we don't understand why the entrainment is shifted.\n",
    "            for tongue_value in all_tongues:\n",
    "                if tongue_value - 1e-2 <= rounded_ratio <= tongue_value + 1e-2:\n",
    "                    entrainment = tongue_value\n",
    "            \n",
    "            arnold_tongue_dict[\"Omega\"].append(omega_list[i])\n",
    "            arnold_tongue_dict[\"A_ext\"].append(A_ext)\n",
    "            arnold_tongue_dict[\"entrainment_value\"].append(entrainment)\n",
    "            arnold_tongue_dict[\"exception\"].append(exception)\n",
    "    \n",
    "    return arnold_tongue_dict"
   ]
  },
  {
   "cell_type": "code",
   "execution_count": 121,
   "metadata": {},
   "outputs": [],
   "source": [
    "def arnold_tongue_simulering_parallel(omega_list, coupling_strength_list, A_ext_list, num_processes):\n",
    "    # Splitting omega_list into chunks for each process\n",
    "    chunk_size = len(omega_list) // num_processes\n",
    "    omega_chunks = [omega_list[i:i + chunk_size] for i in range(0, len(omega_list), chunk_size)]\n",
    "    \n",
    "    # Each process will get its own omega range and the full A_ext_list\n",
    "    args_list = [(omega_chunk, coupling_strength_list, A_ext_list) for omega_chunk in omega_chunks]\n",
    "    \n",
    "    # Initialize multiprocessing pool and distribute the work\n",
    "    with Pool(processes=num_processes) as pool:\n",
    "        results = pool.map(worker, args_list)\n",
    "    \n",
    "    # Combine results from all processes\n",
    "    combined_result = {\"Omega\": [], \"A_ext\": [], \"entrainment_value\": [], \"exception\": []}\n",
    "    for result in results:\n",
    "        combined_result[\"Omega\"].extend(result[\"Omega\"])\n",
    "        combined_result[\"A_ext\"].extend(result[\"A_ext\"])\n",
    "        combined_result[\"entrainment_value\"].extend(result[\"entrainment_value\"])\n",
    "        combined_result[\"exception\"].extend(result[\"exception\"])\n",
    "    \n",
    "    return combined_result"
   ]
  },
  {
   "cell_type": "code",
   "execution_count": 98,
   "metadata": {},
   "outputs": [],
   "source": [
    "# Takes in arrays with Omegas and Coupling Strengths to simulate with\n",
    "def arnold_tongue_simulering(omega_list, coupling_strength_list, A_ext_list):\n",
    "    # All the tongues which we are interested in\n",
    "    all_tongues = [0.5, 1, 1.5, 2]\n",
    "\n",
    "    # A dictionary for storing the simulations\n",
    "    arnold_tongue_dict = {\"Tongue\": [], \"Omega\": [], \"coupling_strength\": [], \"A_ext\":[], \"entrainment_value\":[], \"exception\": []}\n",
    "\n",
    "    # Run simulation for all combinations\n",
    "    for i in tqdm(range(len(omega_list))):\n",
    "        for j in range(len(A_ext_list)):\n",
    "            oscillationer = 200\n",
    "\n",
    "            simulation, _, _ = sim_onoff_nutlin(oscillationer, omega_list[i], A_ext_list[j])\n",
    "            _, p_sim, _, _, _, n_sim = np.array(simulation[\"t\"]), np.array(simulation[\"p\"]), np.array(simulation[\"m\"]), np.array(simulation[\"Mb\"]), np.array(simulation[\"Mf\"]), np.array(simulation[\"n\"])\n",
    "\n",
    "            # Apply a small window and require peak higher than mean\n",
    "            window = 500\n",
    "            peaks_internal = len(find_peaks(p_sim[window:], height=np.mean(p_sim))[0])\n",
    "            peaks_external = len(find_peaks(n_sim[window:], height=np.mean(n_sim))[0])\n",
    "            \n",
    "            Omega_ratio = 0\n",
    "            exception = False\n",
    "            \n",
    "            # If for some reason this fraction throws an error, we log it instead of the simulation just crashing\n",
    "            try:\n",
    "                # 1/Omega because we are using frequency, which is 1/T\n",
    "                Omega_ratio = peaks_internal/peaks_external\n",
    "            except:\n",
    "                exception = True\n",
    "\n",
    "            # We chose this as our accuracy to begin with, but it seems like we are getting results which resembles the ground \"truth\", so we are happy with it so far\n",
    "            rounded_ratio = np.round(Omega_ratio, 2)\n",
    "\n",
    "            entrainment = 0 # Corresponds to no entrainment\n",
    "\n",
    "            # Arbritrary threshold, we hope it works. But it is symmetric here, so we don't understand why the entrainment is shifted.\n",
    "            for tongue_value in all_tongues:\n",
    "                if tongue_value - 1e-2 <= rounded_ratio <= tongue_value + 1e-2:\n",
    "                    entrainment = tongue_value\n",
    "\n",
    "            # DEBUGGING PRINTS\n",
    "            # print(rounded_ratio)\n",
    "            # print(\"Current Omega: \", omega_list[i])\n",
    "            # print(\"Current Nutlin Amplitude: \", A_ext_list[j])\n",
    "            # print(\"Entrainment: \", entrainment)\n",
    "\n",
    "            arnold_tongue_dict[\"Omega\"].append(omega_list[i])\n",
    "            arnold_tongue_dict[\"coupling_strength\"].append(coupling_strength_list[j])\n",
    "            arnold_tongue_dict[\"A_ext\"].append(A_ext_list[j])\n",
    "            arnold_tongue_dict[\"entrainment_value\"].append(entrainment)\n",
    "            arnold_tongue_dict[\"exception\"].append(exception)\n",
    "    \n",
    "    return arnold_tongue_dict\n"
   ]
  },
  {
   "cell_type": "markdown",
   "metadata": {},
   "source": [
    "# Afprøvning"
   ]
  },
  {
   "cell_type": "code",
   "execution_count": 108,
   "metadata": {},
   "outputs": [
    {
     "name": "stdout",
     "output_type": "stream",
     "text": [
      "Det ønskede antal simulationer er: 400\n",
      "Key:  20x20\n"
     ]
    }
   ],
   "source": [
    "antal_omegaer = 20\n",
    "\n",
    "omega_list = np.array(np.linspace(0.01, 2.5, antal_omegaer))\n",
    "# tounge_one = np.array(np.linspace(0.75, 1.24, antal_omegaer))\n",
    "# tounge_three_halves = np.array(np.linspace(1.25, 1.74, antal_omegaer))\n",
    "# tounge_two = np.array(np.linspace(1.75, 2.25, antal_omegaer))\n",
    "# omega_list = np.concatenate((tounge_half, tounge_one, tounge_three_halves, tounge_two))\n",
    "\n",
    "antal_A_ext = 20\n",
    "coupling_strengths = np.array(np.linspace(0.3, 5, antal_A_ext))\n",
    "A_ext_list = coupling_strengths * A_int # A_ext = A_int * coupling strenght\n",
    "\n",
    "resolution = f'{antal_omegaer}x{antal_A_ext}'\n",
    "\n",
    "antal_simulationer_arnold = len(omega_list) * antal_A_ext\n",
    "print(\"Det ønskede antal simulationer er:\", antal_simulationer_arnold)\n",
    "print(\"Key: \", resolution)"
   ]
  },
  {
   "cell_type": "code",
   "execution_count": 123,
   "metadata": {},
   "outputs": [
    {
     "name": "stdout",
     "output_type": "stream",
     "text": [
      "[array([0.01      , 0.14105263, 0.27210526, 0.40315789, 0.53421053]), array([0.66526316, 0.79631579, 0.92736842, 1.05842105, 1.18947368]), array([1.32052632, 1.45157895, 1.58263158, 1.71368421, 1.84473684]), array([1.97578947, 2.10684211, 2.23789474, 2.36894737, 2.5       ])]\n"
     ]
    }
   ],
   "source": [
    "# Splitting omega_list into chunks for each process\n",
    "chunk_size = len(omega_list) // 4\n",
    "omega_chunks = [omega_list[i:i + chunk_size] for i in range(0, len(omega_list), chunk_size)]\n",
    "\n",
    "print(omega_chunks)"
   ]
  },
  {
   "cell_type": "code",
   "execution_count": 122,
   "metadata": {},
   "outputs": [
    {
     "name": "stderr",
     "output_type": "stream",
     "text": [
      "Process SpawnPoolWorker-2:\n",
      "Process SpawnPoolWorker-1:\n",
      "Process SpawnPoolWorker-4:\n",
      "Process SpawnPoolWorker-3:\n",
      "Traceback (most recent call last):\n",
      "Traceback (most recent call last):\n",
      "Traceback (most recent call last):\n",
      "Traceback (most recent call last):\n",
      "  File \"/opt/homebrew/Cellar/python@3.11/3.11.7_1/Frameworks/Python.framework/Versions/3.11/lib/python3.11/multiprocessing/process.py\", line 314, in _bootstrap\n",
      "    self.run()\n",
      "  File \"/opt/homebrew/Cellar/python@3.11/3.11.7_1/Frameworks/Python.framework/Versions/3.11/lib/python3.11/multiprocessing/process.py\", line 314, in _bootstrap\n",
      "    self.run()\n",
      "  File \"/opt/homebrew/Cellar/python@3.11/3.11.7_1/Frameworks/Python.framework/Versions/3.11/lib/python3.11/multiprocessing/process.py\", line 108, in run\n",
      "    self._target(*self._args, **self._kwargs)\n",
      "  File \"/opt/homebrew/Cellar/python@3.11/3.11.7_1/Frameworks/Python.framework/Versions/3.11/lib/python3.11/multiprocessing/process.py\", line 314, in _bootstrap\n",
      "    self.run()\n",
      "  File \"/opt/homebrew/Cellar/python@3.11/3.11.7_1/Frameworks/Python.framework/Versions/3.11/lib/python3.11/multiprocessing/process.py\", line 108, in run\n",
      "    self._target(*self._args, **self._kwargs)\n",
      "  File \"/opt/homebrew/Cellar/python@3.11/3.11.7_1/Frameworks/Python.framework/Versions/3.11/lib/python3.11/multiprocessing/process.py\", line 108, in run\n",
      "    self._target(*self._args, **self._kwargs)\n",
      "  File \"/opt/homebrew/Cellar/python@3.11/3.11.7_1/Frameworks/Python.framework/Versions/3.11/lib/python3.11/multiprocessing/pool.py\", line 114, in worker\n",
      "    task = get()\n",
      "           ^^^^^\n",
      "  File \"/opt/homebrew/Cellar/python@3.11/3.11.7_1/Frameworks/Python.framework/Versions/3.11/lib/python3.11/multiprocessing/pool.py\", line 114, in worker\n",
      "    task = get()\n",
      "           ^^^^^\n",
      "  File \"/opt/homebrew/Cellar/python@3.11/3.11.7_1/Frameworks/Python.framework/Versions/3.11/lib/python3.11/multiprocessing/pool.py\", line 114, in worker\n",
      "    task = get()\n",
      "           ^^^^^\n",
      "  File \"/opt/homebrew/Cellar/python@3.11/3.11.7_1/Frameworks/Python.framework/Versions/3.11/lib/python3.11/multiprocessing/queues.py\", line 367, in get\n",
      "    return _ForkingPickler.loads(res)\n",
      "           ^^^^^^^^^^^^^^^^^^^^^^^^^^\n",
      "  File \"/opt/homebrew/Cellar/python@3.11/3.11.7_1/Frameworks/Python.framework/Versions/3.11/lib/python3.11/multiprocessing/queues.py\", line 367, in get\n",
      "    return _ForkingPickler.loads(res)\n",
      "           ^^^^^^^^^^^^^^^^^^^^^^^^^^\n",
      "  File \"/opt/homebrew/Cellar/python@3.11/3.11.7_1/Frameworks/Python.framework/Versions/3.11/lib/python3.11/multiprocessing/queues.py\", line 367, in get\n",
      "    return _ForkingPickler.loads(res)\n",
      "           ^^^^^^^^^^^^^^^^^^^^^^^^^^\n",
      "AttributeError: Can't get attribute 'worker' on <module '__main__' (built-in)>\n",
      "AttributeError: Can't get attribute 'worker' on <module '__main__' (built-in)>\n",
      "AttributeError: Can't get attribute 'worker' on <module '__main__' (built-in)>\n",
      "  File \"/opt/homebrew/Cellar/python@3.11/3.11.7_1/Frameworks/Python.framework/Versions/3.11/lib/python3.11/multiprocessing/process.py\", line 314, in _bootstrap\n",
      "    self.run()\n",
      "  File \"/opt/homebrew/Cellar/python@3.11/3.11.7_1/Frameworks/Python.framework/Versions/3.11/lib/python3.11/multiprocessing/process.py\", line 108, in run\n",
      "    self._target(*self._args, **self._kwargs)\n",
      "  File \"/opt/homebrew/Cellar/python@3.11/3.11.7_1/Frameworks/Python.framework/Versions/3.11/lib/python3.11/multiprocessing/pool.py\", line 114, in worker\n",
      "    task = get()\n",
      "           ^^^^^\n",
      "  File \"/opt/homebrew/Cellar/python@3.11/3.11.7_1/Frameworks/Python.framework/Versions/3.11/lib/python3.11/multiprocessing/queues.py\", line 367, in get\n",
      "    return _ForkingPickler.loads(res)\n",
      "           ^^^^^^^^^^^^^^^^^^^^^^^^^^\n",
      "AttributeError: Can't get attribute 'worker' on <module '__main__' (built-in)>\n"
     ]
    },
    {
     "ename": "KeyboardInterrupt",
     "evalue": "",
     "output_type": "error",
     "traceback": [
      "\u001b[0;31m---------------------------------------------------------------------------\u001b[0m",
      "\u001b[0;31mKeyboardInterrupt\u001b[0m                         Traceback (most recent call last)",
      "Cell \u001b[0;32mIn[122], line 1\u001b[0m\n\u001b[0;32m----> 1\u001b[0m arnold_dict_parralel \u001b[38;5;241m=\u001b[39m \u001b[43marnold_tongue_simulering_parallel\u001b[49m\u001b[43m(\u001b[49m\u001b[43momega_list\u001b[49m\u001b[43m,\u001b[49m\u001b[43m \u001b[49m\u001b[43mcoupling_strengths\u001b[49m\u001b[43m,\u001b[49m\u001b[43m \u001b[49m\u001b[43mA_ext_list\u001b[49m\u001b[43m,\u001b[49m\u001b[43m \u001b[49m\u001b[38;5;241;43m4\u001b[39;49m\u001b[43m)\u001b[49m\n",
      "Cell \u001b[0;32mIn[121], line 11\u001b[0m, in \u001b[0;36marnold_tongue_simulering_parallel\u001b[0;34m(omega_list, coupling_strength_list, A_ext_list, num_processes)\u001b[0m\n\u001b[1;32m      9\u001b[0m \u001b[38;5;66;03m# Initialize multiprocessing pool and distribute the work\u001b[39;00m\n\u001b[1;32m     10\u001b[0m \u001b[38;5;28;01mwith\u001b[39;00m Pool(processes\u001b[38;5;241m=\u001b[39mnum_processes) \u001b[38;5;28;01mas\u001b[39;00m pool:\n\u001b[0;32m---> 11\u001b[0m     results \u001b[38;5;241m=\u001b[39m \u001b[43mpool\u001b[49m\u001b[38;5;241;43m.\u001b[39;49m\u001b[43mmap\u001b[49m\u001b[43m(\u001b[49m\u001b[43mworker\u001b[49m\u001b[43m,\u001b[49m\u001b[43m \u001b[49m\u001b[43margs_list\u001b[49m\u001b[43m)\u001b[49m\n\u001b[1;32m     13\u001b[0m \u001b[38;5;66;03m# Combine results from all processes\u001b[39;00m\n\u001b[1;32m     14\u001b[0m combined_result \u001b[38;5;241m=\u001b[39m {\u001b[38;5;124m\"\u001b[39m\u001b[38;5;124mOmega\u001b[39m\u001b[38;5;124m\"\u001b[39m: [], \u001b[38;5;124m\"\u001b[39m\u001b[38;5;124mA_ext\u001b[39m\u001b[38;5;124m\"\u001b[39m: [], \u001b[38;5;124m\"\u001b[39m\u001b[38;5;124mentrainment_value\u001b[39m\u001b[38;5;124m\"\u001b[39m: [], \u001b[38;5;124m\"\u001b[39m\u001b[38;5;124mexception\u001b[39m\u001b[38;5;124m\"\u001b[39m: []}\n",
      "File \u001b[0;32m/opt/homebrew/Cellar/python@3.11/3.11.7_1/Frameworks/Python.framework/Versions/3.11/lib/python3.11/multiprocessing/pool.py:367\u001b[0m, in \u001b[0;36mPool.map\u001b[0;34m(self, func, iterable, chunksize)\u001b[0m\n\u001b[1;32m    362\u001b[0m \u001b[38;5;28;01mdef\u001b[39;00m \u001b[38;5;21mmap\u001b[39m(\u001b[38;5;28mself\u001b[39m, func, iterable, chunksize\u001b[38;5;241m=\u001b[39m\u001b[38;5;28;01mNone\u001b[39;00m):\n\u001b[1;32m    363\u001b[0m \u001b[38;5;250m    \u001b[39m\u001b[38;5;124;03m'''\u001b[39;00m\n\u001b[1;32m    364\u001b[0m \u001b[38;5;124;03m    Apply `func` to each element in `iterable`, collecting the results\u001b[39;00m\n\u001b[1;32m    365\u001b[0m \u001b[38;5;124;03m    in a list that is returned.\u001b[39;00m\n\u001b[1;32m    366\u001b[0m \u001b[38;5;124;03m    '''\u001b[39;00m\n\u001b[0;32m--> 367\u001b[0m     \u001b[38;5;28;01mreturn\u001b[39;00m \u001b[38;5;28;43mself\u001b[39;49m\u001b[38;5;241;43m.\u001b[39;49m\u001b[43m_map_async\u001b[49m\u001b[43m(\u001b[49m\u001b[43mfunc\u001b[49m\u001b[43m,\u001b[49m\u001b[43m \u001b[49m\u001b[43miterable\u001b[49m\u001b[43m,\u001b[49m\u001b[43m \u001b[49m\u001b[43mmapstar\u001b[49m\u001b[43m,\u001b[49m\u001b[43m \u001b[49m\u001b[43mchunksize\u001b[49m\u001b[43m)\u001b[49m\u001b[38;5;241;43m.\u001b[39;49m\u001b[43mget\u001b[49m\u001b[43m(\u001b[49m\u001b[43m)\u001b[49m\n",
      "File \u001b[0;32m/opt/homebrew/Cellar/python@3.11/3.11.7_1/Frameworks/Python.framework/Versions/3.11/lib/python3.11/multiprocessing/pool.py:768\u001b[0m, in \u001b[0;36mApplyResult.get\u001b[0;34m(self, timeout)\u001b[0m\n\u001b[1;32m    767\u001b[0m \u001b[38;5;28;01mdef\u001b[39;00m \u001b[38;5;21mget\u001b[39m(\u001b[38;5;28mself\u001b[39m, timeout\u001b[38;5;241m=\u001b[39m\u001b[38;5;28;01mNone\u001b[39;00m):\n\u001b[0;32m--> 768\u001b[0m     \u001b[38;5;28;43mself\u001b[39;49m\u001b[38;5;241;43m.\u001b[39;49m\u001b[43mwait\u001b[49m\u001b[43m(\u001b[49m\u001b[43mtimeout\u001b[49m\u001b[43m)\u001b[49m\n\u001b[1;32m    769\u001b[0m     \u001b[38;5;28;01mif\u001b[39;00m \u001b[38;5;129;01mnot\u001b[39;00m \u001b[38;5;28mself\u001b[39m\u001b[38;5;241m.\u001b[39mready():\n\u001b[1;32m    770\u001b[0m         \u001b[38;5;28;01mraise\u001b[39;00m \u001b[38;5;167;01mTimeoutError\u001b[39;00m\n",
      "File \u001b[0;32m/opt/homebrew/Cellar/python@3.11/3.11.7_1/Frameworks/Python.framework/Versions/3.11/lib/python3.11/multiprocessing/pool.py:765\u001b[0m, in \u001b[0;36mApplyResult.wait\u001b[0;34m(self, timeout)\u001b[0m\n\u001b[1;32m    764\u001b[0m \u001b[38;5;28;01mdef\u001b[39;00m \u001b[38;5;21mwait\u001b[39m(\u001b[38;5;28mself\u001b[39m, timeout\u001b[38;5;241m=\u001b[39m\u001b[38;5;28;01mNone\u001b[39;00m):\n\u001b[0;32m--> 765\u001b[0m     \u001b[38;5;28;43mself\u001b[39;49m\u001b[38;5;241;43m.\u001b[39;49m\u001b[43m_event\u001b[49m\u001b[38;5;241;43m.\u001b[39;49m\u001b[43mwait\u001b[49m\u001b[43m(\u001b[49m\u001b[43mtimeout\u001b[49m\u001b[43m)\u001b[49m\n",
      "File \u001b[0;32m/opt/homebrew/Cellar/python@3.11/3.11.7_1/Frameworks/Python.framework/Versions/3.11/lib/python3.11/threading.py:629\u001b[0m, in \u001b[0;36mEvent.wait\u001b[0;34m(self, timeout)\u001b[0m\n\u001b[1;32m    627\u001b[0m signaled \u001b[38;5;241m=\u001b[39m \u001b[38;5;28mself\u001b[39m\u001b[38;5;241m.\u001b[39m_flag\n\u001b[1;32m    628\u001b[0m \u001b[38;5;28;01mif\u001b[39;00m \u001b[38;5;129;01mnot\u001b[39;00m signaled:\n\u001b[0;32m--> 629\u001b[0m     signaled \u001b[38;5;241m=\u001b[39m \u001b[38;5;28;43mself\u001b[39;49m\u001b[38;5;241;43m.\u001b[39;49m\u001b[43m_cond\u001b[49m\u001b[38;5;241;43m.\u001b[39;49m\u001b[43mwait\u001b[49m\u001b[43m(\u001b[49m\u001b[43mtimeout\u001b[49m\u001b[43m)\u001b[49m\n\u001b[1;32m    630\u001b[0m \u001b[38;5;28;01mreturn\u001b[39;00m signaled\n",
      "File \u001b[0;32m/opt/homebrew/Cellar/python@3.11/3.11.7_1/Frameworks/Python.framework/Versions/3.11/lib/python3.11/threading.py:327\u001b[0m, in \u001b[0;36mCondition.wait\u001b[0;34m(self, timeout)\u001b[0m\n\u001b[1;32m    325\u001b[0m \u001b[38;5;28;01mtry\u001b[39;00m:    \u001b[38;5;66;03m# restore state no matter what (e.g., KeyboardInterrupt)\u001b[39;00m\n\u001b[1;32m    326\u001b[0m     \u001b[38;5;28;01mif\u001b[39;00m timeout \u001b[38;5;129;01mis\u001b[39;00m \u001b[38;5;28;01mNone\u001b[39;00m:\n\u001b[0;32m--> 327\u001b[0m         \u001b[43mwaiter\u001b[49m\u001b[38;5;241;43m.\u001b[39;49m\u001b[43macquire\u001b[49m\u001b[43m(\u001b[49m\u001b[43m)\u001b[49m\n\u001b[1;32m    328\u001b[0m         gotit \u001b[38;5;241m=\u001b[39m \u001b[38;5;28;01mTrue\u001b[39;00m\n\u001b[1;32m    329\u001b[0m     \u001b[38;5;28;01melse\u001b[39;00m:\n",
      "\u001b[0;31mKeyboardInterrupt\u001b[0m: "
     ]
    }
   ],
   "source": [
    "arnold_dict_parralel = arnold_tongue_simulering_parallel(omega_list, coupling_strengths, A_ext_list, 4)"
   ]
  },
  {
   "cell_type": "code",
   "execution_count": 134,
   "metadata": {},
   "outputs": [
    {
     "name": "stderr",
     "output_type": "stream",
     "text": [
      " 20%|██        | 4/20 [00:16<01:07,  4.22s/it]\n"
     ]
    },
    {
     "ename": "KeyboardInterrupt",
     "evalue": "",
     "output_type": "error",
     "traceback": [
      "\u001b[0;31m---------------------------------------------------------------------------\u001b[0m",
      "\u001b[0;31mKeyboardInterrupt\u001b[0m                         Traceback (most recent call last)",
      "Cell \u001b[0;32mIn[134], line 1\u001b[0m\n\u001b[0;32m----> 1\u001b[0m arnold_dict \u001b[38;5;241m=\u001b[39m \u001b[43marnold_tongue_simulering\u001b[49m\u001b[43m(\u001b[49m\u001b[43momega_list\u001b[49m\u001b[43m,\u001b[49m\u001b[43m \u001b[49m\u001b[43mcoupling_strengths\u001b[49m\u001b[43m,\u001b[49m\u001b[43m \u001b[49m\u001b[43mA_ext_list\u001b[49m\u001b[43m)\u001b[49m\n",
      "Cell \u001b[0;32mIn[98], line 14\u001b[0m, in \u001b[0;36marnold_tongue_simulering\u001b[0;34m(omega_list, coupling_strength_list, A_ext_list)\u001b[0m\n\u001b[1;32m     11\u001b[0m \u001b[38;5;28;01mfor\u001b[39;00m j \u001b[38;5;129;01min\u001b[39;00m \u001b[38;5;28mrange\u001b[39m(\u001b[38;5;28mlen\u001b[39m(A_ext_list)):\n\u001b[1;32m     12\u001b[0m     oscillationer \u001b[38;5;241m=\u001b[39m \u001b[38;5;241m200\u001b[39m\n\u001b[0;32m---> 14\u001b[0m     simulation, _, _ \u001b[38;5;241m=\u001b[39m \u001b[43msim_onoff_nutlin\u001b[49m\u001b[43m(\u001b[49m\u001b[43moscillationer\u001b[49m\u001b[43m,\u001b[49m\u001b[43m \u001b[49m\u001b[43momega_list\u001b[49m\u001b[43m[\u001b[49m\u001b[43mi\u001b[49m\u001b[43m]\u001b[49m\u001b[43m,\u001b[49m\u001b[43m \u001b[49m\u001b[43mA_ext_list\u001b[49m\u001b[43m[\u001b[49m\u001b[43mj\u001b[49m\u001b[43m]\u001b[49m\u001b[43m)\u001b[49m\n\u001b[1;32m     15\u001b[0m     _, p_sim, _, _, _, n_sim \u001b[38;5;241m=\u001b[39m np\u001b[38;5;241m.\u001b[39marray(simulation[\u001b[38;5;124m\"\u001b[39m\u001b[38;5;124mt\u001b[39m\u001b[38;5;124m\"\u001b[39m]), np\u001b[38;5;241m.\u001b[39marray(simulation[\u001b[38;5;124m\"\u001b[39m\u001b[38;5;124mp\u001b[39m\u001b[38;5;124m\"\u001b[39m]), np\u001b[38;5;241m.\u001b[39marray(simulation[\u001b[38;5;124m\"\u001b[39m\u001b[38;5;124mm\u001b[39m\u001b[38;5;124m\"\u001b[39m]), np\u001b[38;5;241m.\u001b[39marray(simulation[\u001b[38;5;124m\"\u001b[39m\u001b[38;5;124mMb\u001b[39m\u001b[38;5;124m\"\u001b[39m]), np\u001b[38;5;241m.\u001b[39marray(simulation[\u001b[38;5;124m\"\u001b[39m\u001b[38;5;124mMf\u001b[39m\u001b[38;5;124m\"\u001b[39m]), np\u001b[38;5;241m.\u001b[39marray(simulation[\u001b[38;5;124m\"\u001b[39m\u001b[38;5;124mn\u001b[39m\u001b[38;5;124m\"\u001b[39m])\n\u001b[1;32m     17\u001b[0m     \u001b[38;5;66;03m# Apply a small window and require peak higher than mean\u001b[39;00m\n",
      "Cell \u001b[0;32mIn[41], line 22\u001b[0m, in \u001b[0;36msim_onoff_nutlin\u001b[0;34m(oscillationer, OOmega, A_ext)\u001b[0m\n\u001b[1;32m     20\u001b[0m \u001b[38;5;66;03m# Every period, Nutlin concentration is reset to A_ext\u001b[39;00m\n\u001b[1;32m     21\u001b[0m state \u001b[38;5;241m=\u001b[39m history[\u001b[38;5;124m\"\u001b[39m\u001b[38;5;124mp\u001b[39m\u001b[38;5;124m\"\u001b[39m][\u001b[38;5;241m-\u001b[39m\u001b[38;5;241m1\u001b[39m], history[\u001b[38;5;124m\"\u001b[39m\u001b[38;5;124mm\u001b[39m\u001b[38;5;124m\"\u001b[39m][\u001b[38;5;241m-\u001b[39m\u001b[38;5;241m1\u001b[39m], history[\u001b[38;5;124m\"\u001b[39m\u001b[38;5;124mMf\u001b[39m\u001b[38;5;124m\"\u001b[39m][\u001b[38;5;241m-\u001b[39m\u001b[38;5;241m1\u001b[39m], history[\u001b[38;5;124m\"\u001b[39m\u001b[38;5;124mMb\u001b[39m\u001b[38;5;124m\"\u001b[39m][\u001b[38;5;241m-\u001b[39m\u001b[38;5;241m1\u001b[39m], A_ext\n\u001b[0;32m---> 22\u001b[0m sys \u001b[38;5;241m=\u001b[39m \u001b[43msolve_ivp\u001b[49m\u001b[43m(\u001b[49m\u001b[43msamlet_system\u001b[49m\u001b[43m,\u001b[49m\u001b[43m \u001b[49m\u001b[43m(\u001b[49m\u001b[38;5;241;43m0\u001b[39;49m\u001b[43m,\u001b[49m\u001b[43m \u001b[49m\u001b[43mT_ext\u001b[49m\u001b[43m)\u001b[49m\u001b[43m,\u001b[49m\u001b[43m \u001b[49m\u001b[43mstate\u001b[49m\u001b[43m,\u001b[49m\u001b[43m \u001b[49m\u001b[43mmethod\u001b[49m\u001b[38;5;241;43m=\u001b[39;49m\u001b[38;5;124;43m'\u001b[39;49m\u001b[38;5;124;43mRK45\u001b[39;49m\u001b[38;5;124;43m'\u001b[39;49m\u001b[43m,\u001b[49m\u001b[43m \u001b[49m\u001b[43mmax_step\u001b[49m\u001b[38;5;241;43m=\u001b[39;49m\u001b[38;5;241;43m5\u001b[39;49m\u001b[43m,\u001b[49m\u001b[43m \u001b[49m\u001b[43mdense_output\u001b[49m\u001b[38;5;241;43m=\u001b[39;49m\u001b[38;5;28;43;01mTrue\u001b[39;49;00m\u001b[43m)\u001b[49m\n\u001b[1;32m     23\u001b[0m t, p, m, Mf, Mb, n \u001b[38;5;241m=\u001b[39m np\u001b[38;5;241m.\u001b[39marray(sys[\u001b[38;5;124m\"\u001b[39m\u001b[38;5;124mt\u001b[39m\u001b[38;5;124m\"\u001b[39m]), sys[\u001b[38;5;124m\"\u001b[39m\u001b[38;5;124my\u001b[39m\u001b[38;5;124m\"\u001b[39m][\u001b[38;5;241m0\u001b[39m], sys[\u001b[38;5;124m\"\u001b[39m\u001b[38;5;124my\u001b[39m\u001b[38;5;124m\"\u001b[39m][\u001b[38;5;241m1\u001b[39m], sys[\u001b[38;5;124m\"\u001b[39m\u001b[38;5;124my\u001b[39m\u001b[38;5;124m\"\u001b[39m][\u001b[38;5;241m2\u001b[39m], sys[\u001b[38;5;124m\"\u001b[39m\u001b[38;5;124my\u001b[39m\u001b[38;5;124m\"\u001b[39m][\u001b[38;5;241m3\u001b[39m], sys[\u001b[38;5;124m\"\u001b[39m\u001b[38;5;124my\u001b[39m\u001b[38;5;124m\"\u001b[39m][\u001b[38;5;241m4\u001b[39m]\n\u001b[1;32m     24\u001b[0m history[\u001b[38;5;124m\"\u001b[39m\u001b[38;5;124mt\u001b[39m\u001b[38;5;124m\"\u001b[39m]\u001b[38;5;241m.\u001b[39mextend(t \u001b[38;5;241m+\u001b[39m history[\u001b[38;5;124m\"\u001b[39m\u001b[38;5;124mt\u001b[39m\u001b[38;5;124m\"\u001b[39m][\u001b[38;5;241m-\u001b[39m\u001b[38;5;241m1\u001b[39m])\n",
      "File \u001b[0;32m~/Documents/Studie/Projekt/python/p53-network/env/lib/python3.11/site-packages/scipy/integrate/_ivp/ivp.py:650\u001b[0m, in \u001b[0;36msolve_ivp\u001b[0;34m(fun, t_span, y0, method, t_eval, dense_output, events, vectorized, args, **options)\u001b[0m\n\u001b[1;32m    648\u001b[0m status \u001b[38;5;241m=\u001b[39m \u001b[38;5;28;01mNone\u001b[39;00m\n\u001b[1;32m    649\u001b[0m \u001b[38;5;28;01mwhile\u001b[39;00m status \u001b[38;5;129;01mis\u001b[39;00m \u001b[38;5;28;01mNone\u001b[39;00m:\n\u001b[0;32m--> 650\u001b[0m     message \u001b[38;5;241m=\u001b[39m \u001b[43msolver\u001b[49m\u001b[38;5;241;43m.\u001b[39;49m\u001b[43mstep\u001b[49m\u001b[43m(\u001b[49m\u001b[43m)\u001b[49m\n\u001b[1;32m    652\u001b[0m     \u001b[38;5;28;01mif\u001b[39;00m solver\u001b[38;5;241m.\u001b[39mstatus \u001b[38;5;241m==\u001b[39m \u001b[38;5;124m'\u001b[39m\u001b[38;5;124mfinished\u001b[39m\u001b[38;5;124m'\u001b[39m:\n\u001b[1;32m    653\u001b[0m         status \u001b[38;5;241m=\u001b[39m \u001b[38;5;241m0\u001b[39m\n",
      "File \u001b[0;32m~/Documents/Studie/Projekt/python/p53-network/env/lib/python3.11/site-packages/scipy/integrate/_ivp/base.py:197\u001b[0m, in \u001b[0;36mOdeSolver.step\u001b[0;34m(self)\u001b[0m\n\u001b[1;32m    195\u001b[0m \u001b[38;5;28;01melse\u001b[39;00m:\n\u001b[1;32m    196\u001b[0m     t \u001b[38;5;241m=\u001b[39m \u001b[38;5;28mself\u001b[39m\u001b[38;5;241m.\u001b[39mt\n\u001b[0;32m--> 197\u001b[0m     success, message \u001b[38;5;241m=\u001b[39m \u001b[38;5;28;43mself\u001b[39;49m\u001b[38;5;241;43m.\u001b[39;49m\u001b[43m_step_impl\u001b[49m\u001b[43m(\u001b[49m\u001b[43m)\u001b[49m\n\u001b[1;32m    199\u001b[0m     \u001b[38;5;28;01mif\u001b[39;00m \u001b[38;5;129;01mnot\u001b[39;00m success:\n\u001b[1;32m    200\u001b[0m         \u001b[38;5;28mself\u001b[39m\u001b[38;5;241m.\u001b[39mstatus \u001b[38;5;241m=\u001b[39m \u001b[38;5;124m'\u001b[39m\u001b[38;5;124mfailed\u001b[39m\u001b[38;5;124m'\u001b[39m\n",
      "File \u001b[0;32m~/Documents/Studie/Projekt/python/p53-network/env/lib/python3.11/site-packages/scipy/integrate/_ivp/rk.py:153\u001b[0m, in \u001b[0;36mRungeKutta._step_impl\u001b[0;34m(self)\u001b[0m\n\u001b[1;32m    151\u001b[0m     factor \u001b[38;5;241m=\u001b[39m MAX_FACTOR\n\u001b[1;32m    152\u001b[0m \u001b[38;5;28;01melse\u001b[39;00m:\n\u001b[0;32m--> 153\u001b[0m     factor \u001b[38;5;241m=\u001b[39m \u001b[38;5;28;43mmin\u001b[39;49m\u001b[43m(\u001b[49m\u001b[43mMAX_FACTOR\u001b[49m\u001b[43m,\u001b[49m\n\u001b[1;32m    154\u001b[0m \u001b[43m                 \u001b[49m\u001b[43mSAFETY\u001b[49m\u001b[43m \u001b[49m\u001b[38;5;241;43m*\u001b[39;49m\u001b[43m \u001b[49m\u001b[43merror_norm\u001b[49m\u001b[43m \u001b[49m\u001b[38;5;241;43m*\u001b[39;49m\u001b[38;5;241;43m*\u001b[39;49m\u001b[43m \u001b[49m\u001b[38;5;28;43mself\u001b[39;49m\u001b[38;5;241;43m.\u001b[39;49m\u001b[43merror_exponent\u001b[49m\u001b[43m)\u001b[49m\n\u001b[1;32m    156\u001b[0m \u001b[38;5;28;01mif\u001b[39;00m step_rejected:\n\u001b[1;32m    157\u001b[0m     factor \u001b[38;5;241m=\u001b[39m \u001b[38;5;28mmin\u001b[39m(\u001b[38;5;241m1\u001b[39m, factor)\n",
      "\u001b[0;31mKeyboardInterrupt\u001b[0m: "
     ]
    }
   ],
   "source": [
    "arnold_dict = arnold_tongue_simulering(omega_list, coupling_strengths, A_ext_list)"
   ]
  },
  {
   "cell_type": "markdown",
   "metadata": {},
   "source": [
    "# Save and read sim"
   ]
  },
  {
   "cell_type": "code",
   "execution_count": 135,
   "metadata": {},
   "outputs": [
    {
     "name": "stdout",
     "output_type": "stream",
     "text": [
      "You can run 10 processes concurrently on this computer.\n"
     ]
    }
   ],
   "source": [
    "import multiprocessing\n",
    "\n",
    "num_processes = multiprocessing.cpu_count()\n",
    "print(f\"You can run {num_processes} processes concurrently on this computer.\")"
   ]
  },
  {
   "cell_type": "code",
   "execution_count": 102,
   "metadata": {},
   "outputs": [],
   "source": [
    "def save_simulation(h5_file, res, omegas_tested, coupling_strengths_tested, a_ext_tested, entrainments, exceptions):\n",
    "    with h5py.File(h5_file, 'a') as f:\n",
    "        # Check if the group exists, create it if it does not\n",
    "        group_name = str(res)\n",
    "        if group_name not in f:\n",
    "            grp = f.create_group(group_name)\n",
    "        else:\n",
    "            grp = f[group_name]\n",
    "\n",
    "        # Function to append or create datasets\n",
    "        def append_or_create_dataset(group, name, data):\n",
    "            if name in group:\n",
    "                # Dataset exists; append data\n",
    "                dataset = group[name]\n",
    "                dataset.resize((dataset.shape[0] + data.shape[0]), axis=0)\n",
    "                dataset[-data.shape[0]:] = data\n",
    "            else:\n",
    "                # Create a new resizable dataset\n",
    "                maxshape = (None,) + data.shape[1:]\n",
    "                dataset = group.create_dataset(name, data=data, maxshape=maxshape, compression=\"gzip\", compression_opts=9)\n",
    "\n",
    "        # Append to or create datasets within the group\n",
    "        append_or_create_dataset(grp, \"Omegas_tested\", np.array(omegas_tested))\n",
    "        append_or_create_dataset(grp, \"Coupling_strengths_tested\", np.array(coupling_strengths_tested))\n",
    "        append_or_create_dataset(grp, \"A_ext_tested\", np.array(a_ext_tested))\n",
    "        append_or_create_dataset(grp, \"Entrainments\", np.array(entrainments))\n",
    "        append_or_create_dataset(grp, \"Exceptions\", np.array(exceptions))"
   ]
  },
  {
   "cell_type": "code",
   "execution_count": 110,
   "metadata": {},
   "outputs": [],
   "source": [
    "Omegas_tested = arnold_dict[\"Omega\"]\n",
    "Coupling_strengths_tested = arnold_dict[\"coupling_strength\"]\n",
    "A_ext_tested = arnold_dict[\"A_ext\"]\n",
    "Entrainments = arnold_dict[\"entrainment_value\"]\n",
    "Exceptions = arnold_dict[\"exception\"]\n",
    "\n",
    "color_map = [\n",
    "    'C0' if entrainment == 0.5 else\n",
    "    'C1' if entrainment == 1 else\n",
    "    'C2' if entrainment == 1.5 else\n",
    "    'C6' if entrainment == 2 else\n",
    "    'red' if Exceptions[i] == True else\n",
    "    'gray'\n",
    "    for i, entrainment in enumerate(Entrainments)\n",
    "]"
   ]
  },
  {
   "cell_type": "code",
   "execution_count": 116,
   "metadata": {},
   "outputs": [
    {
     "data": {
      "text/plain": [
       "Text(0.5, 0, 'External / Internal Period')"
      ]
     },
     "execution_count": 116,
     "metadata": {},
     "output_type": "execute_result"
    },
    {
     "data": {
      "image/png": "[encoded data removed]",
      "text/plain": [
       "<Figure size 1400x800 with 1 Axes>"
      ]
     },
     "metadata": {},
     "output_type": "display_data"
    }
   ],
   "source": [
    "plt.figure(figsize=(14,8))\n",
    "\n",
    "plt.scatter(Omegas_tested, Coupling_strengths_tested, c=color_map, s=10, marker=\"s\")\n",
    "\n",
    "plt.title(\"Arnold Tongues\", fontsize=20)\n",
    "plt.ylabel(\"Coupling Strength\", fontsize=16)\n",
    "plt.xlabel(\"External / Internal Period\", fontsize=16)"
   ]
  },
  {
   "cell_type": "code",
   "execution_count": null,
   "metadata": {},
   "outputs": [],
   "source": [
    "arnold_file_read = read_simulation(\"Arnold_data_1_to_2_tongue_60by60.h5\", 0.5)\n",
    "\n",
    "Current_tongue = arnold_file_read[\"tongue_value\"]\n",
    "Omegas_tested = arnold_file_read[\"Omegas_tested\"]\n",
    "Coupling_strengths_tested = arnold_file_read[\"Coupling_strengths_tested\"]\n",
    "A_ext_tested = arnold_file_read[\"A_ext_tested\"]\n",
    "Entrainments = arnold_file_read[\"Entrainments\"]\n",
    "Exceptions = arnold_file_read[\"Exceptions\"]"
   ]
  },
  {
   "cell_type": "code",
   "execution_count": 104,
   "metadata": {},
   "outputs": [],
   "source": [
    "# 'x_000_05_y_000_05_10by10.h5' means that the x-window is from 0.00 to 0.5 and the y-window is from 0.00 to 0.5. The 10by10 means that the resolution will give 100 squares"
   ]
  },
  {
   "cell_type": "code",
   "execution_count": 105,
   "metadata": {},
   "outputs": [],
   "source": [
    "save_simulation(f'arnold_sims/x_0001_05_y_0001_05_{resolution}.h5', resolution, Omegas_tested, Coupling_strengths_tested, A_ext_tested, Entrainments, Exceptions)"
   ]
  },
  {
   "cell_type": "code",
   "execution_count": 106,
   "metadata": {},
   "outputs": [],
   "source": [
    "def read_simulation(h5_file, res):\n",
    "    with h5py.File(h5_file, 'r') as f:\n",
    "        data = {}\n",
    "        grp = f[str(res)]\n",
    "        data['resolution'] = res\n",
    "        \n",
    "        # Check each dataset's existence before accessing\n",
    "        for key in ('Omegas_tested', 'Coupling_strengths_tested', 'A_ext_tested', 'Entrainments', 'Exceptions'):\n",
    "            if key in grp:\n",
    "                data[key] = grp[key][:]\n",
    "            else:\n",
    "                data[key] = 'Dataset not found'\n",
    "                \n",
    "    return data"
   ]
  },
  {
   "cell_type": "code",
   "execution_count": 107,
   "metadata": {},
   "outputs": [
    {
     "ename": "KeyError",
     "evalue": "\"Unable to open object (object '20x20' doesn't exist)\"",
     "output_type": "error",
     "traceback": [
      "\u001b[0;31m---------------------------------------------------------------------------\u001b[0m",
      "\u001b[0;31mKeyError\u001b[0m                                  Traceback (most recent call last)",
      "Cell \u001b[0;32mIn[107], line 1\u001b[0m\n\u001b[0;32m----> 1\u001b[0m arnold_file_read \u001b[38;5;241m=\u001b[39m \u001b[43mread_simulation\u001b[49m\u001b[43m(\u001b[49m\u001b[38;5;124;43m\"\u001b[39;49m\u001b[38;5;124;43mArnold_data_1_to_2_tongue_30by80.h5\u001b[39;49m\u001b[38;5;124;43m\"\u001b[39;49m\u001b[43m,\u001b[49m\u001b[43m \u001b[49m\u001b[38;5;124;43m'\u001b[39;49m\u001b[38;5;124;43m20x20\u001b[39;49m\u001b[38;5;124;43m'\u001b[39;49m\u001b[43m)\u001b[49m\n\u001b[1;32m      3\u001b[0m Omegas_tested \u001b[38;5;241m=\u001b[39m arnold_file_read[\u001b[38;5;124m\"\u001b[39m\u001b[38;5;124mOmegas_tested\u001b[39m\u001b[38;5;124m\"\u001b[39m]\n\u001b[1;32m      4\u001b[0m Coupling_strengths_tested \u001b[38;5;241m=\u001b[39m arnold_file_read[\u001b[38;5;124m\"\u001b[39m\u001b[38;5;124mCoupling_strengths_tested\u001b[39m\u001b[38;5;124m\"\u001b[39m]\n",
      "Cell \u001b[0;32mIn[106], line 4\u001b[0m, in \u001b[0;36mread_simulation\u001b[0;34m(h5_file, res)\u001b[0m\n\u001b[1;32m      2\u001b[0m \u001b[38;5;28;01mwith\u001b[39;00m h5py\u001b[38;5;241m.\u001b[39mFile(h5_file, \u001b[38;5;124m'\u001b[39m\u001b[38;5;124mr\u001b[39m\u001b[38;5;124m'\u001b[39m) \u001b[38;5;28;01mas\u001b[39;00m f:\n\u001b[1;32m      3\u001b[0m     data \u001b[38;5;241m=\u001b[39m {}\n\u001b[0;32m----> 4\u001b[0m     grp \u001b[38;5;241m=\u001b[39m \u001b[43mf\u001b[49m\u001b[43m[\u001b[49m\u001b[38;5;28;43mstr\u001b[39;49m\u001b[43m(\u001b[49m\u001b[43mres\u001b[49m\u001b[43m)\u001b[49m\u001b[43m]\u001b[49m\n\u001b[1;32m      5\u001b[0m     data[\u001b[38;5;124m'\u001b[39m\u001b[38;5;124mresolution\u001b[39m\u001b[38;5;124m'\u001b[39m] \u001b[38;5;241m=\u001b[39m res\n\u001b[1;32m      7\u001b[0m     \u001b[38;5;66;03m# Check each dataset's existence before accessing\u001b[39;00m\n",
      "File \u001b[0;32mh5py/_objects.pyx:54\u001b[0m, in \u001b[0;36mh5py._objects.with_phil.wrapper\u001b[0;34m()\u001b[0m\n",
      "File \u001b[0;32mh5py/_objects.pyx:55\u001b[0m, in \u001b[0;36mh5py._objects.with_phil.wrapper\u001b[0;34m()\u001b[0m\n",
      "File \u001b[0;32m~/Documents/Studie/Projekt/python/p53-network/env/lib/python3.11/site-packages/h5py/_hl/group.py:357\u001b[0m, in \u001b[0;36mGroup.__getitem__\u001b[0;34m(self, name)\u001b[0m\n\u001b[1;32m    355\u001b[0m         \u001b[38;5;28;01mraise\u001b[39;00m \u001b[38;5;167;01mValueError\u001b[39;00m(\u001b[38;5;124m\"\u001b[39m\u001b[38;5;124mInvalid HDF5 object reference\u001b[39m\u001b[38;5;124m\"\u001b[39m)\n\u001b[1;32m    356\u001b[0m \u001b[38;5;28;01melif\u001b[39;00m \u001b[38;5;28misinstance\u001b[39m(name, (\u001b[38;5;28mbytes\u001b[39m, \u001b[38;5;28mstr\u001b[39m)):\n\u001b[0;32m--> 357\u001b[0m     oid \u001b[38;5;241m=\u001b[39m \u001b[43mh5o\u001b[49m\u001b[38;5;241;43m.\u001b[39;49m\u001b[43mopen\u001b[49m\u001b[43m(\u001b[49m\u001b[38;5;28;43mself\u001b[39;49m\u001b[38;5;241;43m.\u001b[39;49m\u001b[43mid\u001b[49m\u001b[43m,\u001b[49m\u001b[43m \u001b[49m\u001b[38;5;28;43mself\u001b[39;49m\u001b[38;5;241;43m.\u001b[39;49m\u001b[43m_e\u001b[49m\u001b[43m(\u001b[49m\u001b[43mname\u001b[49m\u001b[43m)\u001b[49m\u001b[43m,\u001b[49m\u001b[43m \u001b[49m\u001b[43mlapl\u001b[49m\u001b[38;5;241;43m=\u001b[39;49m\u001b[38;5;28;43mself\u001b[39;49m\u001b[38;5;241;43m.\u001b[39;49m\u001b[43m_lapl\u001b[49m\u001b[43m)\u001b[49m\n\u001b[1;32m    358\u001b[0m \u001b[38;5;28;01melse\u001b[39;00m:\n\u001b[1;32m    359\u001b[0m     \u001b[38;5;28;01mraise\u001b[39;00m \u001b[38;5;167;01mTypeError\u001b[39;00m(\u001b[38;5;124m\"\u001b[39m\u001b[38;5;124mAccessing a group is done with bytes or str, \u001b[39m\u001b[38;5;124m\"\u001b[39m\n\u001b[1;32m    360\u001b[0m                     \u001b[38;5;124m\"\u001b[39m\u001b[38;5;124mnot \u001b[39m\u001b[38;5;132;01m{}\u001b[39;00m\u001b[38;5;124m\"\u001b[39m\u001b[38;5;241m.\u001b[39mformat(\u001b[38;5;28mtype\u001b[39m(name)))\n",
      "File \u001b[0;32mh5py/_objects.pyx:54\u001b[0m, in \u001b[0;36mh5py._objects.with_phil.wrapper\u001b[0;34m()\u001b[0m\n",
      "File \u001b[0;32mh5py/_objects.pyx:55\u001b[0m, in \u001b[0;36mh5py._objects.with_phil.wrapper\u001b[0;34m()\u001b[0m\n",
      "File \u001b[0;32mh5py/h5o.pyx:189\u001b[0m, in \u001b[0;36mh5py.h5o.open\u001b[0;34m()\u001b[0m\n",
      "\u001b[0;31mKeyError\u001b[0m: \"Unable to open object (object '20x20' doesn't exist)\""
     ]
    }
   ],
   "source": [
    "arnold_file_read = read_simulation(\"Arnold_data_1_to_2_tongue_30by80.h5\", '20x20')\n",
    "\n",
    "Omegas_tested = arnold_file_read[\"Omegas_tested\"]\n",
    "Coupling_strengths_tested = arnold_file_read[\"Coupling_strengths_tested\"]\n",
    "A_ext_tested = arnold_file_read[\"A_ext_tested\"]\n",
    "Entrainments = arnold_file_read[\"Entrainments\"]\n",
    "Exceptions = arnold_file_read[\"Exceptions\"]"
   ]
  },
  {
   "cell_type": "code",
   "execution_count": 69,
   "metadata": {},
   "outputs": [],
   "source": [
    "color_map_half = [\n",
    "    'C0' if entrainment == True else\n",
    "    'red' if Exceptions[i] == True else\n",
    "    'gray'\n",
    "    for i, entrainment in enumerate(Entrainments)\n",
    "]"
   ]
  },
  {
   "cell_type": "code",
   "execution_count": 109,
   "metadata": {},
   "outputs": [
    {
     "ename": "ValueError",
     "evalue": "'c' argument has 3600 elements, which is inconsistent with 'x' and 'y' with size 400.",
     "output_type": "error",
     "traceback": [
      "\u001b[0;31m---------------------------------------------------------------------------\u001b[0m",
      "\u001b[0;31mValueError\u001b[0m                                Traceback (most recent call last)",
      "Cell \u001b[0;32mIn[109], line 3\u001b[0m\n\u001b[1;32m      1\u001b[0m plt\u001b[38;5;241m.\u001b[39mfigure(figsize\u001b[38;5;241m=\u001b[39m(\u001b[38;5;241m14\u001b[39m,\u001b[38;5;241m8\u001b[39m))\n\u001b[0;32m----> 3\u001b[0m \u001b[43mplt\u001b[49m\u001b[38;5;241;43m.\u001b[39;49m\u001b[43mscatter\u001b[49m\u001b[43m(\u001b[49m\u001b[43mOmegas_tested\u001b[49m\u001b[43m,\u001b[49m\u001b[43m \u001b[49m\u001b[43mCoupling_strengths_tested\u001b[49m\u001b[43m,\u001b[49m\u001b[43m \u001b[49m\u001b[43mc\u001b[49m\u001b[38;5;241;43m=\u001b[39;49m\u001b[43mcolor_map_half\u001b[49m\u001b[43m,\u001b[49m\u001b[43m \u001b[49m\u001b[43ms\u001b[49m\u001b[38;5;241;43m=\u001b[39;49m\u001b[38;5;241;43m20\u001b[39;49m\u001b[43m,\u001b[49m\u001b[43m \u001b[49m\u001b[43mmarker\u001b[49m\u001b[38;5;241;43m=\u001b[39;49m\u001b[38;5;124;43m\"\u001b[39;49m\u001b[38;5;124;43ms\u001b[39;49m\u001b[38;5;124;43m\"\u001b[39;49m\u001b[43m)\u001b[49m\n\u001b[1;32m      5\u001b[0m plt\u001b[38;5;241m.\u001b[39mtitle(\u001b[38;5;124m\"\u001b[39m\u001b[38;5;124mArnold Tongues\u001b[39m\u001b[38;5;124m\"\u001b[39m, fontsize\u001b[38;5;241m=\u001b[39m\u001b[38;5;241m20\u001b[39m)\n\u001b[1;32m      6\u001b[0m plt\u001b[38;5;241m.\u001b[39mylabel(\u001b[38;5;124m\"\u001b[39m\u001b[38;5;124mCoupling Strength\u001b[39m\u001b[38;5;124m\"\u001b[39m, fontsize\u001b[38;5;241m=\u001b[39m\u001b[38;5;241m16\u001b[39m)\n",
      "File \u001b[0;32m~/Documents/Studie/Projekt/python/p53-network/env/lib/python3.11/site-packages/matplotlib/pyplot.py:3699\u001b[0m, in \u001b[0;36mscatter\u001b[0;34m(x, y, s, c, marker, cmap, norm, vmin, vmax, alpha, linewidths, edgecolors, plotnonfinite, data, **kwargs)\u001b[0m\n\u001b[1;32m   3680\u001b[0m \u001b[38;5;129m@_copy_docstring_and_deprecators\u001b[39m(Axes\u001b[38;5;241m.\u001b[39mscatter)\n\u001b[1;32m   3681\u001b[0m \u001b[38;5;28;01mdef\u001b[39;00m \u001b[38;5;21mscatter\u001b[39m(\n\u001b[1;32m   3682\u001b[0m     x: \u001b[38;5;28mfloat\u001b[39m \u001b[38;5;241m|\u001b[39m ArrayLike,\n\u001b[0;32m   (...)\u001b[0m\n\u001b[1;32m   3697\u001b[0m     \u001b[38;5;241m*\u001b[39m\u001b[38;5;241m*\u001b[39mkwargs,\n\u001b[1;32m   3698\u001b[0m ) \u001b[38;5;241m-\u001b[39m\u001b[38;5;241m>\u001b[39m PathCollection:\n\u001b[0;32m-> 3699\u001b[0m     __ret \u001b[38;5;241m=\u001b[39m \u001b[43mgca\u001b[49m\u001b[43m(\u001b[49m\u001b[43m)\u001b[49m\u001b[38;5;241;43m.\u001b[39;49m\u001b[43mscatter\u001b[49m\u001b[43m(\u001b[49m\n\u001b[1;32m   3700\u001b[0m \u001b[43m        \u001b[49m\u001b[43mx\u001b[49m\u001b[43m,\u001b[49m\n\u001b[1;32m   3701\u001b[0m \u001b[43m        \u001b[49m\u001b[43my\u001b[49m\u001b[43m,\u001b[49m\n\u001b[1;32m   3702\u001b[0m \u001b[43m        \u001b[49m\u001b[43ms\u001b[49m\u001b[38;5;241;43m=\u001b[39;49m\u001b[43ms\u001b[49m\u001b[43m,\u001b[49m\n\u001b[1;32m   3703\u001b[0m \u001b[43m        \u001b[49m\u001b[43mc\u001b[49m\u001b[38;5;241;43m=\u001b[39;49m\u001b[43mc\u001b[49m\u001b[43m,\u001b[49m\n\u001b[1;32m   3704\u001b[0m \u001b[43m        \u001b[49m\u001b[43mmarker\u001b[49m\u001b[38;5;241;43m=\u001b[39;49m\u001b[43mmarker\u001b[49m\u001b[43m,\u001b[49m\n\u001b[1;32m   3705\u001b[0m \u001b[43m        \u001b[49m\u001b[43mcmap\u001b[49m\u001b[38;5;241;43m=\u001b[39;49m\u001b[43mcmap\u001b[49m\u001b[43m,\u001b[49m\n\u001b[1;32m   3706\u001b[0m \u001b[43m        \u001b[49m\u001b[43mnorm\u001b[49m\u001b[38;5;241;43m=\u001b[39;49m\u001b[43mnorm\u001b[49m\u001b[43m,\u001b[49m\n\u001b[1;32m   3707\u001b[0m \u001b[43m        \u001b[49m\u001b[43mvmin\u001b[49m\u001b[38;5;241;43m=\u001b[39;49m\u001b[43mvmin\u001b[49m\u001b[43m,\u001b[49m\n\u001b[1;32m   3708\u001b[0m \u001b[43m        \u001b[49m\u001b[43mvmax\u001b[49m\u001b[38;5;241;43m=\u001b[39;49m\u001b[43mvmax\u001b[49m\u001b[43m,\u001b[49m\n\u001b[1;32m   3709\u001b[0m \u001b[43m        \u001b[49m\u001b[43malpha\u001b[49m\u001b[38;5;241;43m=\u001b[39;49m\u001b[43malpha\u001b[49m\u001b[43m,\u001b[49m\n\u001b[1;32m   3710\u001b[0m \u001b[43m        \u001b[49m\u001b[43mlinewidths\u001b[49m\u001b[38;5;241;43m=\u001b[39;49m\u001b[43mlinewidths\u001b[49m\u001b[43m,\u001b[49m\n\u001b[1;32m   3711\u001b[0m \u001b[43m        \u001b[49m\u001b[43medgecolors\u001b[49m\u001b[38;5;241;43m=\u001b[39;49m\u001b[43medgecolors\u001b[49m\u001b[43m,\u001b[49m\n\u001b[1;32m   3712\u001b[0m \u001b[43m        \u001b[49m\u001b[43mplotnonfinite\u001b[49m\u001b[38;5;241;43m=\u001b[39;49m\u001b[43mplotnonfinite\u001b[49m\u001b[43m,\u001b[49m\n\u001b[1;32m   3713\u001b[0m \u001b[43m        \u001b[49m\u001b[38;5;241;43m*\u001b[39;49m\u001b[38;5;241;43m*\u001b[39;49m\u001b[43m(\u001b[49m\u001b[43m{\u001b[49m\u001b[38;5;124;43m\"\u001b[39;49m\u001b[38;5;124;43mdata\u001b[39;49m\u001b[38;5;124;43m\"\u001b[39;49m\u001b[43m:\u001b[49m\u001b[43m \u001b[49m\u001b[43mdata\u001b[49m\u001b[43m}\u001b[49m\u001b[43m \u001b[49m\u001b[38;5;28;43;01mif\u001b[39;49;00m\u001b[43m \u001b[49m\u001b[43mdata\u001b[49m\u001b[43m \u001b[49m\u001b[38;5;129;43;01mis\u001b[39;49;00m\u001b[43m \u001b[49m\u001b[38;5;129;43;01mnot\u001b[39;49;00m\u001b[43m \u001b[49m\u001b[38;5;28;43;01mNone\u001b[39;49;00m\u001b[43m \u001b[49m\u001b[38;5;28;43;01melse\u001b[39;49;00m\u001b[43m \u001b[49m\u001b[43m{\u001b[49m\u001b[43m}\u001b[49m\u001b[43m)\u001b[49m\u001b[43m,\u001b[49m\n\u001b[1;32m   3714\u001b[0m \u001b[43m        \u001b[49m\u001b[38;5;241;43m*\u001b[39;49m\u001b[38;5;241;43m*\u001b[39;49m\u001b[43mkwargs\u001b[49m\u001b[43m,\u001b[49m\n\u001b[1;32m   3715\u001b[0m \u001b[43m    \u001b[49m\u001b[43m)\u001b[49m\n\u001b[1;32m   3716\u001b[0m     sci(__ret)\n\u001b[1;32m   3717\u001b[0m     \u001b[38;5;28;01mreturn\u001b[39;00m __ret\n",
      "File \u001b[0;32m~/Documents/Studie/Projekt/python/p53-network/env/lib/python3.11/site-packages/matplotlib/__init__.py:1465\u001b[0m, in \u001b[0;36m_preprocess_data.<locals>.inner\u001b[0;34m(ax, data, *args, **kwargs)\u001b[0m\n\u001b[1;32m   1462\u001b[0m \u001b[38;5;129m@functools\u001b[39m\u001b[38;5;241m.\u001b[39mwraps(func)\n\u001b[1;32m   1463\u001b[0m \u001b[38;5;28;01mdef\u001b[39;00m \u001b[38;5;21minner\u001b[39m(ax, \u001b[38;5;241m*\u001b[39margs, data\u001b[38;5;241m=\u001b[39m\u001b[38;5;28;01mNone\u001b[39;00m, \u001b[38;5;241m*\u001b[39m\u001b[38;5;241m*\u001b[39mkwargs):\n\u001b[1;32m   1464\u001b[0m     \u001b[38;5;28;01mif\u001b[39;00m data \u001b[38;5;129;01mis\u001b[39;00m \u001b[38;5;28;01mNone\u001b[39;00m:\n\u001b[0;32m-> 1465\u001b[0m         \u001b[38;5;28;01mreturn\u001b[39;00m \u001b[43mfunc\u001b[49m\u001b[43m(\u001b[49m\u001b[43max\u001b[49m\u001b[43m,\u001b[49m\u001b[43m \u001b[49m\u001b[38;5;241;43m*\u001b[39;49m\u001b[38;5;28;43mmap\u001b[39;49m\u001b[43m(\u001b[49m\u001b[43msanitize_sequence\u001b[49m\u001b[43m,\u001b[49m\u001b[43m \u001b[49m\u001b[43margs\u001b[49m\u001b[43m)\u001b[49m\u001b[43m,\u001b[49m\u001b[43m \u001b[49m\u001b[38;5;241;43m*\u001b[39;49m\u001b[38;5;241;43m*\u001b[39;49m\u001b[43mkwargs\u001b[49m\u001b[43m)\u001b[49m\n\u001b[1;32m   1467\u001b[0m     bound \u001b[38;5;241m=\u001b[39m new_sig\u001b[38;5;241m.\u001b[39mbind(ax, \u001b[38;5;241m*\u001b[39margs, \u001b[38;5;241m*\u001b[39m\u001b[38;5;241m*\u001b[39mkwargs)\n\u001b[1;32m   1468\u001b[0m     auto_label \u001b[38;5;241m=\u001b[39m (bound\u001b[38;5;241m.\u001b[39marguments\u001b[38;5;241m.\u001b[39mget(label_namer)\n\u001b[1;32m   1469\u001b[0m                   \u001b[38;5;129;01mor\u001b[39;00m bound\u001b[38;5;241m.\u001b[39mkwargs\u001b[38;5;241m.\u001b[39mget(label_namer))\n",
      "File \u001b[0;32m~/Documents/Studie/Projekt/python/p53-network/env/lib/python3.11/site-packages/matplotlib/axes/_axes.py:4673\u001b[0m, in \u001b[0;36mAxes.scatter\u001b[0;34m(self, x, y, s, c, marker, cmap, norm, vmin, vmax, alpha, linewidths, edgecolors, plotnonfinite, **kwargs)\u001b[0m\n\u001b[1;32m   4670\u001b[0m \u001b[38;5;28;01mif\u001b[39;00m edgecolors \u001b[38;5;129;01mis\u001b[39;00m \u001b[38;5;28;01mNone\u001b[39;00m:\n\u001b[1;32m   4671\u001b[0m     orig_edgecolor \u001b[38;5;241m=\u001b[39m kwargs\u001b[38;5;241m.\u001b[39mget(\u001b[38;5;124m'\u001b[39m\u001b[38;5;124medgecolor\u001b[39m\u001b[38;5;124m'\u001b[39m, \u001b[38;5;28;01mNone\u001b[39;00m)\n\u001b[1;32m   4672\u001b[0m c, colors, edgecolors \u001b[38;5;241m=\u001b[39m \\\n\u001b[0;32m-> 4673\u001b[0m     \u001b[38;5;28;43mself\u001b[39;49m\u001b[38;5;241;43m.\u001b[39;49m\u001b[43m_parse_scatter_color_args\u001b[49m\u001b[43m(\u001b[49m\n\u001b[1;32m   4674\u001b[0m \u001b[43m        \u001b[49m\u001b[43mc\u001b[49m\u001b[43m,\u001b[49m\u001b[43m \u001b[49m\u001b[43medgecolors\u001b[49m\u001b[43m,\u001b[49m\u001b[43m \u001b[49m\u001b[43mkwargs\u001b[49m\u001b[43m,\u001b[49m\u001b[43m \u001b[49m\u001b[43mx\u001b[49m\u001b[38;5;241;43m.\u001b[39;49m\u001b[43msize\u001b[49m\u001b[43m,\u001b[49m\n\u001b[1;32m   4675\u001b[0m \u001b[43m        \u001b[49m\u001b[43mget_next_color_func\u001b[49m\u001b[38;5;241;43m=\u001b[39;49m\u001b[38;5;28;43mself\u001b[39;49m\u001b[38;5;241;43m.\u001b[39;49m\u001b[43m_get_patches_for_fill\u001b[49m\u001b[38;5;241;43m.\u001b[39;49m\u001b[43mget_next_color\u001b[49m\u001b[43m)\u001b[49m\n\u001b[1;32m   4677\u001b[0m \u001b[38;5;28;01mif\u001b[39;00m plotnonfinite \u001b[38;5;129;01mand\u001b[39;00m colors \u001b[38;5;129;01mis\u001b[39;00m \u001b[38;5;28;01mNone\u001b[39;00m:\n\u001b[1;32m   4678\u001b[0m     c \u001b[38;5;241m=\u001b[39m np\u001b[38;5;241m.\u001b[39mma\u001b[38;5;241m.\u001b[39mmasked_invalid(c)\n",
      "File \u001b[0;32m~/Documents/Studie/Projekt/python/p53-network/env/lib/python3.11/site-packages/matplotlib/axes/_axes.py:4502\u001b[0m, in \u001b[0;36mAxes._parse_scatter_color_args\u001b[0;34m(c, edgecolors, kwargs, xsize, get_next_color_func)\u001b[0m\n\u001b[1;32m   4498\u001b[0m     \u001b[38;5;28;01melse\u001b[39;00m:\n\u001b[1;32m   4499\u001b[0m         \u001b[38;5;28;01mif\u001b[39;00m \u001b[38;5;28mlen\u001b[39m(colors) \u001b[38;5;129;01mnot\u001b[39;00m \u001b[38;5;129;01min\u001b[39;00m (\u001b[38;5;241m0\u001b[39m, \u001b[38;5;241m1\u001b[39m, xsize):\n\u001b[1;32m   4500\u001b[0m             \u001b[38;5;66;03m# NB: remember that a single color is also acceptable.\u001b[39;00m\n\u001b[1;32m   4501\u001b[0m             \u001b[38;5;66;03m# Besides *colors* will be an empty array if c == 'none'.\u001b[39;00m\n\u001b[0;32m-> 4502\u001b[0m             \u001b[38;5;28;01mraise\u001b[39;00m invalid_shape_exception(\u001b[38;5;28mlen\u001b[39m(colors), xsize)\n\u001b[1;32m   4503\u001b[0m \u001b[38;5;28;01melse\u001b[39;00m:\n\u001b[1;32m   4504\u001b[0m     colors \u001b[38;5;241m=\u001b[39m \u001b[38;5;28;01mNone\u001b[39;00m  \u001b[38;5;66;03m# use cmap, norm after collection is created\u001b[39;00m\n",
      "\u001b[0;31mValueError\u001b[0m: 'c' argument has 3600 elements, which is inconsistent with 'x' and 'y' with size 400."
     ]
    },
    {
     "data": {
      "image/png": "[encoded data removed]",
      "text/plain": [
       "<Figure size 1400x800 with 1 Axes>"
      ]
     },
     "metadata": {},
     "output_type": "display_data"
    }
   ],
   "source": [
    "plt.figure(figsize=(14,8))\n",
    "\n",
    "plt.scatter(Omegas_tested, Coupling_strengths_tested, c=color_map_half, s=20, marker=\"s\")\n",
    "\n",
    "plt.title(\"Arnold Tongues\", fontsize=20)\n",
    "plt.ylabel(\"Coupling Strength\", fontsize=16)\n",
    "plt.xlabel(\"External / Internal Period\", fontsize=16)"
   ]
  },
  {
   "cell_type": "markdown",
   "metadata": {},
   "source": [
    "# Læs alle, fjern duplicates, og lav kæmpe Arnold"
   ]
  },
  {
   "cell_type": "code",
   "execution_count": null,
   "metadata": {},
   "outputs": [],
   "source": [
    "# Alle de filer, som skal bruges til at samle final plot\n",
    "fil_liste = [\"Arnold_data_1_to_2_tongue_60by60.h5\", \"Arnold_data_1_to_2_tongue_30by80.h5\"]"
   ]
  },
  {
   "cell_type": "code",
   "execution_count": null,
   "metadata": {},
   "outputs": [],
   "source": [
    "def read_all_files(list_of_files):\n",
    "    for file in list_of_files:\n",
    "        read_simulation(h5_file, tongue_value)\n",
    "        with h5py.File(h5_file, 'r') as f:\n",
    "        data = {}\n",
    "        grp = f[str(tongue_value)]\n",
    "        data['tongue_value'] = tongue_value\n",
    "        \n",
    "        # Check each dataset's existence before accessing\n",
    "        for key in ('Omegas_tested', 'Coupling_strengths_tested', 'A_ext_tested', 'Entrainments', 'Exceptions'):\n",
    "            if key in grp:\n",
    "                data[key] = grp[key][:]\n",
    "            else:\n",
    "                data[key] = 'Dataset not found'\n",
    "                \n",
    "        return data"
   ]
  },
  {
   "cell_type": "markdown",
   "metadata": {},
   "source": [
    "# Nyt loading"
   ]
  },
  {
   "cell_type": "code",
   "execution_count": 130,
   "metadata": {},
   "outputs": [],
   "source": [
    "def load_data(filename):\n",
    "    with gzip.open(filename, 'rb') as f:\n",
    "        data = pickle.load(f)\n",
    "    return data\n",
    "\n",
    "# Example usage\n",
    "loaded_data = load_data('arnold_sims/arnold_tongue_dict_latest.pkl.gz')\n",
    "# Now you can use 'loaded_data' for plotting or analysis"
   ]
  },
  {
   "cell_type": "code",
   "execution_count": 131,
   "metadata": {},
   "outputs": [],
   "source": [
    "Omegas_tested = arnold_dict[\"Omega\"]\n",
    "Coupling_strengths_tested = arnold_dict[\"coupling_strength\"]\n",
    "A_ext_tested = arnold_dict[\"A_ext\"]\n",
    "Entrainments = arnold_dict[\"entrainment_value\"]\n",
    "Exceptions = arnold_dict[\"exception\"]\n",
    "\n",
    "color_map = [\n",
    "    'C0' if entrainment == 0.5 else\n",
    "    'C1' if entrainment == 1 else\n",
    "    'C2' if entrainment == 1.5 else\n",
    "    'C6' if entrainment == 2 else\n",
    "    'red' if Exceptions[i] == True else\n",
    "    'gray'\n",
    "    for i, entrainment in enumerate(Entrainments)\n",
    "]"
   ]
  },
  {
   "cell_type": "code",
   "execution_count": 133,
   "metadata": {},
   "outputs": [
    {
     "data": {
      "text/plain": [
       "Text(0.5, 0, 'External / Internal Period')"
      ]
     },
     "execution_count": 133,
     "metadata": {},
     "output_type": "execute_result"
    },
    {
     "data": {
      "image/png": "[encoded data removed]",
      "text/plain": [
       "<Figure size 1400x800 with 1 Axes>"
      ]
     },
     "metadata": {},
     "output_type": "display_data"
    }
   ],
   "source": [
    "plt.figure(figsize=(14,8))\n",
    "\n",
    "plt.scatter(Omegas_tested, Coupling_strengths_tested, c=color_map, s=20, marker=\"s\")\n",
    "\n",
    "plt.title(\"Arnold Tongues\", fontsize=20)\n",
    "plt.ylabel(\"Coupling Strength\", fontsize=16)\n",
    "plt.xlabel(\"External / Internal Period\", fontsize=16)"
   ]
  },
  {
   "cell_type": "code",
   "execution_count": null,
   "metadata": {},
   "outputs": [],
   "source": []
  }
 ],
 "metadata": {
  "kernelspec": {
   "display_name": "base",
   "language": "python",
   "name": "python3"
  },
  "language_info": {
   "codemirror_mode": {
    "name": "ipython",
    "version": 3
   },
   "file_extension": ".py",
   "mimetype": "text/x-python",
   "name": "python",
   "nbconvert_exporter": "python",
   "pygments_lexer": "ipython3",
   "version": "3.11.7"
  }
 },
 "nbformat": 4,
 "nbformat_minor": 2
}
