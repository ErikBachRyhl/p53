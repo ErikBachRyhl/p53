{
 "cells": [
  {
   "cell_type": "code",
   "execution_count": 3,
   "metadata": {},
   "outputs": [],
   "source": [
    "import numpy as np\n",
    "import matplotlib.pyplot as plt\n",
    "\n",
    "import pickle\n",
    "import gzip\n",
    "from matplotlib import rc\n",
    "import warnings\n",
    "\n",
    "plt.style.use('seaborn-v0_8-white')\n",
    "rc('font',**{'family':'serif','serif':['Times']})\n",
    "rc('text', usetex=True)\n",
    "warnings.filterwarnings(\"ignore\")"
   ]
  },
  {
   "cell_type": "code",
   "execution_count": 4,
   "metadata": {},
   "outputs": [],
   "source": [
    "def load_data(filename):\n",
    "    with gzip.open(filename, 'rb') as f:\n",
    "        data = pickle.load(f)\n",
    "    return data"
   ]
  },
  {
   "cell_type": "code",
   "execution_count": 5,
   "metadata": {},
   "outputs": [],
   "source": [
    "data = load_data('modi_scripts/nfkb/arnold/1_nfkb_36by12.pkl.gz')"
   ]
  },
  {
   "cell_type": "code",
   "execution_count": 6,
   "metadata": {},
   "outputs": [],
   "source": [
    "threshold = 0.1\n",
    "tunger = [0, 0.5, 1, 1.5, 2, 2.5, 3]\n",
    "tunger_v2 = np.linspace(0.1,3,30)\n",
    "\n",
    "colors = ['C0', 'C1', 'C2', 'C6', 'C7', 'C8', 'C9']\n",
    "colors_v2 = [\"red\", \"orange\", \"blue\", \"magenta\", \"green\", \"cyan\", \"darkviolet\"]\n",
    "arnold_color_scheme = [\"grey\", \"#56445D\", \"#A26769\", \"#9CB380\", \"#508AA8\", \"#C8EAD3\", \"#31474D\", '#DAE0DC']\n",
    "label = [\"0\", fr\"$\\frac{1}{2}$\", \"1\", fr\"$\\frac{3}{2}$\", \"2\", fr\"$\\frac{5}{2}$\", \"3\", fr\"$n\\cdot0.1$\"] \n",
    "\n",
    "def get_color_map(Entrainments, tunger, threshold, colors):\n",
    "    color_map = []\n",
    "\n",
    "    for entrainment in Entrainments:\n",
    "        # Initialize the color to white (default color)\n",
    "        color = 'white'\n",
    "\n",
    "        # Check if entrainment falls within any of the specified ranges\n",
    "        for i, start in enumerate(tunger):\n",
    "            if start - threshold <= entrainment <= start + threshold:\n",
    "                color = arnold_color_scheme[i]\n",
    "                break  # Break out of the loop once a matching range is found\n",
    "\n",
    "        # # Check if entrainment falls within any of the specified ranges\n",
    "        # for i, start in enumerate(tunger_v2):\n",
    "        #     if start - threshold <= entrainment <= start + threshold:\n",
    "        #         color = '#DAE0DC'\n",
    "        #         break  # Break out of the loop once a matching range is found\n",
    "\n",
    "        color_map.append(color)\n",
    "\n",
    "    return color_map\n",
    "\n",
    "color_map = get_color_map(np.array(data[\"calculated_ratio\"]), tunger, threshold, colors)"
   ]
  },
  {
   "cell_type": "code",
   "execution_count": 7,
   "metadata": {},
   "outputs": [],
   "source": [
    "color_old = [\n",
    "    'C0' if ratio - 1e-2 <= 0 <= ratio + 1e-2 else\n",
    "    'C1' if ratio - 1e-2 <= 0.2 <= ratio + 1e-2 else\n",
    "    'C2' if ratio - 1e-2 <= 0.4 <= ratio + 1e-2 else\n",
    "    'red' if data[\"exception\"][i] == True else\n",
    "    'white'\n",
    "    for i, ratio in enumerate(data[\"calculated_ratio\"])\n",
    "]"
   ]
  },
  {
   "cell_type": "code",
   "execution_count": 8,
   "metadata": {},
   "outputs": [
    {
     "data": {
      "text/plain": [
       "<matplotlib.collections.PathCollection at 0x1094d5ed0>"
      ]
     },
     "execution_count": 8,
     "metadata": {},
     "output_type": "execute_result"
    },
    {
     "data": {
      "image/png": "[encoded data removed]",
      "text/plain": [
       "<Figure size 1400x800 with 1 Axes>"
      ]
     },
     "metadata": {},
     "output_type": "display_data"
    }
   ],
   "source": [
    "plt.figure(figsize=(14,8))\n",
    "\n",
    "plt.scatter(data[\"Omega\"], data[\"coupling_strength\"], c=color_map, s=40, marker=\"s\")"
   ]
  },
  {
   "cell_type": "code",
   "execution_count": 9,
   "metadata": {},
   "outputs": [],
   "source": [
    "Omegas_tested_1 = loaded_data_1[\"Omega\"]\n",
    "Coupling_strengths_tested_1 = loaded_data_1[\"coupling_strength\"]\n",
    "Exceptions_1 = loaded_data_1[\"exception\"]\n",
    "Ratios_1 = np.array(loaded_data_1[\"calculated_ratio\"])"
   ]
  },
  {
   "cell_type": "code",
   "execution_count": 61,
   "metadata": {},
   "outputs": [],
   "source": [
    "# Omegas_tested_2 = loaded_data_2[\"Omega\"]\n",
    "# Coupling_strengths_tested_2 = loaded_data_2[\"coupling_strength\"]\n",
    "# Exceptions = loaded_data_2[\"exception\"]\n",
    "# Ratios_2 = np.array(loaded_data_2[\"calculated_ratio\"])\n",
    "\n",
    "# Omegas_tested_3 = loaded_data_3[\"Omega\"]\n",
    "# Coupling_strengths_tested_3 = loaded_data_3[\"coupling_strength\"]\n",
    "# Exceptions_3 = loaded_data_3[\"exception\"]\n",
    "# Ratios_3 = np.array(loaded_data_3[\"calculated_ratio\"])\n",
    "\n",
    "# Omegas_tested_4 = loaded_data_4[\"Omega\"]\n",
    "# Coupling_strengths_tested_4 = loaded_data_4[\"coupling_strength\"]\n",
    "# Exceptions_4 = loaded_data_4[\"exception\"]\n",
    "# Ratios_4 = np.array(loaded_data_4[\"calculated_ratio\"])\n",
    "\n",
    "# omegas_third = np.concatenate((Omegas_tested_3, Omegas_tested_4))\n",
    "# ratios_third = np.concatenate((Ratios_3, Ratios_4))\n",
    "# exceptions_third = np.concatenate((Exceptions_3, Exceptions_4))\n",
    "# coupling_strengts_third = np.concatenate((Coupling_strengths_tested_3, Coupling_strengths_tested_4))\n",
    "\n",
    "# Omegas_tested_5 = loaded_data_5[\"Omega\"]\n",
    "# Coupling_strengths_tested_5 = loaded_data_5[\"coupling_strength\"]\n",
    "# Exceptions_5 = loaded_data_5[\"exception\"]\n",
    "# Ratios_5 = np.array(loaded_data_5[\"calculated_ratio\"])\n",
    "\n",
    "# Omegas_tested_6 = loaded_data_6[\"Omega\"]\n",
    "# Coupling_strengths_tested_6 = loaded_data_6[\"coupling_strength\"]\n",
    "# Exceptions_6 = loaded_data_6[\"exception\"]\n",
    "# Ratios_6 = np.array(loaded_data_6[\"calculated_ratio\"])"
   ]
  },
  {
   "cell_type": "code",
   "execution_count": 20,
   "metadata": {},
   "outputs": [],
   "source": [
    "color_map_1 = [\n",
    "    'C0' if ratio - 1e-3 <= 0 <= ratio + 1e-3 else\n",
    "    'C2' if ratio - 8e-3 <= 0.1 <= ratio + 8e-3 else\n",
    "    'C3' if ratio - 1e-3 <= 0.2 <= ratio + 1e-3 else\n",
    "    'C4' if ratio - 1e-3 <= 0.3 <= ratio + 1e-3 else\n",
    "    'C5' if ratio - 1e-3 <= 0.4 <= ratio + 1e-3 else\n",
    "    # 'C5' if ratio - 1e-2 <= 3/4 <= ratio + 1e-2 else\n",
    "    # 'C1' if ratio - 1e-2 <= 1/1 <= ratio + 1e-2 else\n",
    "    # 'C2' if ratio - 1e-2 <= 3/2 <= ratio + 1e-2 else\n",
    "    # # 'C9' if ratio - 1e-2 <= 1.97 <= ratio + 1e-2 else\n",
    "    # 'C6' if ratio - 1e-2 <= 4/2 <= ratio + 1e-2 else\n",
    "    # 'C4' if ratio - 1e-2 <= 5/2 <= ratio + 1e-2 else\n",
    "    # 'C9' if ratio - 1e-2 <= 6/2 <= ratio + 1e-2 else\n",
    "    'red' if Exceptions_1[i] == True else\n",
    "    'gray'\n",
    "    for i, ratio in enumerate(Ratios_1.ravel())\n",
    "]"
   ]
  },
  {
   "cell_type": "code",
   "execution_count": 74,
   "metadata": {},
   "outputs": [],
   "source": [
    "color_map_2 = [\n",
    "    # 'C7' if ratio - 1e-2 <= 1/4 <= ratio + 1e-2 else\n",
    "    # 'C3' if ratio - 1e-2 <= 1/3 <= ratio + 1e-2 else\n",
    "    'C0' if ratio - 1e-2 <= 2/4 <= ratio + 1e-2 else\n",
    "    # 'C5' if ratio - 1e-2 <= 3/4 <= ratio + 1e-2 else\n",
    "    'C1' if ratio - 1e-2 <= 1/1 <= ratio + 1e-2 else\n",
    "    'C2' if ratio - 1e-2 <= 3/2 <= ratio + 1e-2 else\n",
    "    # 'C9' if ratio - 1e-2 <= 1.97 <= ratio + 1e-2 else\n",
    "    'C6' if ratio - 1e-2 <= 4/2 <= ratio + 1e-2 else\n",
    "    'C4' if ratio - 1e-2 <= 5/2 <= ratio + 1e-2 else\n",
    "    'C9' if ratio - 1e-2 <= 6/2 <= ratio + 1e-2 else\n",
    "    'red' if Exceptions_2[i] == True else\n",
    "    'white'\n",
    "    for i, ratio in enumerate(Ratios_2.ravel())\n",
    "]"
   ]
  },
  {
   "cell_type": "code",
   "execution_count": 75,
   "metadata": {},
   "outputs": [],
   "source": [
    "color_map_3 = [\n",
    "    # 'C7' if ratio - 1e-2 <= 1/4 <= ratio + 1e-2 else\n",
    "    # 'C3' if ratio - 1e-2 <= 1/3 <= ratio + 1e-2 else\n",
    "    'C0' if ratio - 1e-2 <= 2/4 <= ratio + 1e-2 else\n",
    "    # 'C5' if ratio - 1e-2 <= 3/4 <= ratio + 1e-2 else\n",
    "    'C1' if ratio - 1e-2 <= 1/1 <= ratio + 1e-2 else\n",
    "    'C2' if ratio - 1e-2 <= 3/2 <= ratio + 1e-2 else\n",
    "    # 'C9' if ratio - 1e-2 <= 1.97 <= ratio + 1e-2 else\n",
    "    'C6' if ratio - 1e-2 <= 4/2 <= ratio + 1e-2 else\n",
    "    'C4' if ratio - 1e-2 <= 5/2 <= ratio + 1e-2 else\n",
    "    'C9' if ratio - 1e-2 <= 6/2 <= ratio + 1e-2 else\n",
    "    'red' if Exceptions_3[i] == True else\n",
    "    'white'\n",
    "    for i, ratio in enumerate(Ratios_3.ravel())\n",
    "]\n",
    "\n",
    "color_map_4 = [\n",
    "    # 'C7' if ratio - 1e-2 <= 1/4 <= ratio + 1e-2 else\n",
    "    # 'C3' if ratio - 1e-2 <= 1/3 <= ratio + 1e-2 else\n",
    "    'C0' if ratio - 1e-2 <= 2/4 <= ratio + 1e-2 else\n",
    "    # 'C5' if ratio - 1e-2 <= 3/4 <= ratio + 1e-2 else\n",
    "    'C1' if ratio - 1e-2 <= 1/1 <= ratio + 1e-2 else\n",
    "    'C2' if ratio - 1e-2 <= 3/2 <= ratio + 1e-2 else\n",
    "    # 'C9' if ratio - 1e-2 <= 1.97 <= ratio + 1e-2 else\n",
    "    'C6' if ratio - 1e-2 <= 4/2 <= ratio + 1e-2 else\n",
    "    'C4' if ratio - 1e-2 <= 5/2 <= ratio + 1e-2 else\n",
    "    'C9' if ratio - 1e-2 <= 6/2 <= ratio + 1e-2 else\n",
    "    'red' if Exceptions_4[i] == True else\n",
    "    'white'\n",
    "    for i, ratio in enumerate(Ratios_4.ravel())\n",
    "]\n",
    "\n",
    "color_map_5 = [\n",
    "    # 'C7' if ratio - 1e-2 <= 1/4 <= ratio + 1e-2 else\n",
    "    # 'C3' if ratio - 1e-2 <= 1/3 <= ratio + 1e-2 else\n",
    "    'C0' if ratio - 1e-2 <= 2/4 <= ratio + 1e-2 else\n",
    "    # 'C5' if ratio - 1e-2 <= 3/4 <= ratio + 1e-2 else\n",
    "    'C1' if ratio - 1e-2 <= 1/1 <= ratio + 1e-2 else\n",
    "    'C2' if ratio - 1e-2 <= 3/2 <= ratio + 1e-2 else\n",
    "    # 'C9' if ratio - 1e-2 <= 1.97 <= ratio + 1e-2 else\n",
    "    'C6' if ratio - 1e-2 <= 4/2 <= ratio + 1e-2 else\n",
    "    'C4' if ratio - 1e-2 <= 5/2 <= ratio + 1e-2 else\n",
    "    'C9' if ratio - 1e-2 <= 6/2 <= ratio + 1e-2 else\n",
    "    'red' if Exceptions_5[i] == True else\n",
    "    'white'\n",
    "    for i, ratio in enumerate(Ratios_5.ravel())\n",
    "]\n",
    "\n",
    "color_map_6 = [\n",
    "    # 'C7' if ratio - 1e-2 <= 1/4 <= ratio + 1e-2 else\n",
    "    # 'C3' if ratio - 1e-2 <= 1/3 <= ratio + 1e-2 else\n",
    "    'C0' if ratio - 1e-2 <= 2/4 <= ratio + 1e-2 else\n",
    "    # 'C5' if ratio - 1e-2 <= 3/4 <= ratio + 1e-2 else\n",
    "    'C1' if ratio - 1e-2 <= 1/1 <= ratio + 1e-2 else\n",
    "    'C2' if ratio - 1e-2 <= 3/2 <= ratio + 1e-2 else\n",
    "    # 'C9' if ratio - 1e-2 <= 1.97 <= ratio + 1e-2 else\n",
    "    'C6' if ratio - 1e-2 <= 4/2 <= ratio + 1e-2 else\n",
    "    'C4' if ratio - 1e-2 <= 5/2 <= ratio + 1e-2 else\n",
    "    'C9' if ratio - 1e-2 <= 6/2 <= ratio + 1e-2 else\n",
    "    'red' if Exceptions_6[i] == True else\n",
    "    'white'\n",
    "    for i, ratio in enumerate(Ratios_6.ravel())\n",
    "]"
   ]
  },
  {
   "cell_type": "code",
   "execution_count": null,
   "metadata": {},
   "outputs": [],
   "source": []
  },
  {
   "cell_type": "code",
   "execution_count": null,
   "metadata": {},
   "outputs": [],
   "source": []
  },
  {
   "cell_type": "code",
   "execution_count": 21,
   "metadata": {},
   "outputs": [
    {
     "data": {
      "text/plain": [
       "Text(0.5, 0, 'External / Internal Period')"
      ]
     },
     "execution_count": 21,
     "metadata": {},
     "output_type": "execute_result"
    },
    {
     "data": {
      "image/png": "[encoded data removed]",
      "text/plain": [
       "<Figure size 1400x800 with 1 Axes>"
      ]
     },
     "metadata": {},
     "output_type": "display_data"
    }
   ],
   "source": [
    "plt.figure(figsize=(14,8))\n",
    "\n",
    "plt.scatter(Omegas_tested_1, Coupling_strengths_tested_1, c=color_map_1, s=40, marker=\"s\")\n",
    "# plt.scatter(Omegas_tested_2, Coupling_strengths_tested_2, c=color_map_2, s=40, marker=\"s\")\n",
    "# plt.scatter(Omegas_tested_4, Coupling_strengths_tested_4, c=color_map_4, s=40, marker=\"s\")\n",
    "# plt.scatter(Omegas_tested_5, Coupling_strengths_tested_5, c=color_map_5, s=40, marker=\"s\")\n",
    "# plt.scatter(Omegas_tested_6, Coupling_strengths_tested_6, c=color_map_6, s=40, marker=\"s\")\n",
    "# plt.scatter(Omegas_tested_2, Coupling_strengths_tested_2, c=color_map_2, s=40, marker=\"s\")\n",
    "\n",
    "plt.title(\"Arnold Tongues\", fontsize=20)\n",
    "plt.ylabel(\"Coupling Strength\", fontsize=16)\n",
    "plt.xlabel(\"External / Internal Period\", fontsize=16)"
   ]
  },
  {
   "cell_type": "code",
   "execution_count": null,
   "metadata": {},
   "outputs": [],
   "source": []
  }
 ],
 "metadata": {
  "kernelspec": {
   "display_name": "env",
   "language": "python",
   "name": "python3"
  },
  "language_info": {
   "codemirror_mode": {
    "name": "ipython",
    "version": 3
   },
   "file_extension": ".py",
   "mimetype": "text/x-python",
   "name": "python",
   "nbconvert_exporter": "python",
   "pygments_lexer": "ipython3",
   "version": "3.11.7"
  }
 },
 "nbformat": 4,
 "nbformat_minor": 2
}
