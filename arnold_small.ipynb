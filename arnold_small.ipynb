{
 "cells": [
  {
   "cell_type": "code",
   "execution_count": 3,
   "metadata": {},
   "outputs": [],
   "source": [
    "import numpy as np\n",
    "import matplotlib.pyplot as plt\n",
    "\n",
    "import pickle\n",
    "import gzip\n",
    "from matplotlib import rc\n",
    "import warnings\n",
    "\n",
    "plt.style.use('seaborn-v0_8-white')\n",
    "rc('font',**{'family':'serif','serif':['Times']})\n",
    "rc('text', usetex=True)\n",
    "warnings.filterwarnings(\"ignore\")"
   ]
  },
  {
   "cell_type": "code",
   "execution_count": 4,
   "metadata": {},
   "outputs": [],
   "source": [
    "def load_data(filename):\n",
    "    with gzip.open(filename, 'rb') as f:\n",
    "        data = pickle.load(f)\n",
    "    return data"
   ]
  },
  {
   "cell_type": "code",
   "execution_count": 15,
   "metadata": {},
   "outputs": [],
   "source": [
    "data = load_data('modi_scripts/p53_chaos/arnold/1_p53_chaos_12by36.pkl.gz')"
   ]
  },
  {
   "cell_type": "code",
   "execution_count": 16,
   "metadata": {},
   "outputs": [],
   "source": [
    "threshold = 0.1\n",
    "tunger = [0, 0.5, 1, 1.5, 2, 2.5, 3]\n",
    "tunger_v2 = np.linspace(0.1,3,30)\n",
    "\n",
    "colors = ['C0', 'C1', 'C2', 'C6', 'C7', 'C8', 'C9']\n",
    "colors_v2 = [\"red\", \"orange\", \"blue\", \"magenta\", \"green\", \"cyan\", \"darkviolet\"]\n",
    "arnold_color_scheme = [\"grey\", \"#56445D\", \"#A26769\", \"#9CB380\", \"#508AA8\", \"#C8EAD3\", \"#31474D\", '#DAE0DC']\n",
    "label = [\"0\", fr\"$\\frac{1}{2}$\", \"1\", fr\"$\\frac{3}{2}$\", \"2\", fr\"$\\frac{5}{2}$\", \"3\", fr\"$n\\cdot0.1$\"] \n",
    "\n",
    "def get_color_map(Entrainments, tunger, threshold, colors):\n",
    "    color_map = []\n",
    "\n",
    "    for entrainment in Entrainments:\n",
    "        # Initialize the color to white (default color)\n",
    "        color = 'white'\n",
    "\n",
    "        # Check if entrainment falls within any of the specified ranges\n",
    "        for i, start in enumerate(tunger):\n",
    "            if start - threshold <= entrainment <= start + threshold:\n",
    "                color = arnold_color_scheme[i]\n",
    "                break  # Break out of the loop once a matching range is found\n",
    "\n",
    "        # # Check if entrainment falls within any of the specified ranges\n",
    "        # for i, start in enumerate(tunger_v2):\n",
    "        #     if start - threshold <= entrainment <= start + threshold:\n",
    "        #         color = '#DAE0DC'\n",
    "        #         break  # Break out of the loop once a matching range is found\n",
    "\n",
    "        color_map.append(color)\n",
    "\n",
    "    return color_map\n",
    "\n",
    "color_map = get_color_map(np.array(data[\"calculated_ratio\"]), tunger, threshold, colors)"
   ]
  },
  {
   "cell_type": "code",
   "execution_count": 17,
   "metadata": {},
   "outputs": [],
   "source": [
    "color_old = [\n",
    "    'C0' if ratio - 1e-2 <= 0 <= ratio + 1e-2 else\n",
    "    'C1' if ratio - 1e-2 <= 0.2 <= ratio + 1e-2 else\n",
    "    'C2' if ratio - 1e-2 <= 0.4 <= ratio + 1e-2 else\n",
    "    'red' if data[\"exception\"][i] == True else\n",
    "    'white'\n",
    "    for i, ratio in enumerate(data[\"calculated_ratio\"])\n",
    "]"
   ]
  },
  {
   "cell_type": "code",
   "execution_count": 18,
   "metadata": {},
   "outputs": [
    {
     "data": {
      "text/plain": [
       "[array([1.00000000e-03, 2.05675147e-02, 4.01350294e-02, 5.97025440e-02,\n",
       "        7.92700587e-02, 9.88375734e-02, 1.18405088e-01, 1.37972603e-01,\n",
       "        1.57540117e-01, 1.77107632e-01, 1.96675147e-01, 2.16242661e-01,\n",
       "        2.35810176e-01, 2.55377691e-01, 2.74945205e-01, 2.94512720e-01,\n",
       "        3.14080235e-01, 3.33647750e-01, 3.53215264e-01, 3.72782779e-01,\n",
       "        3.92350294e-01, 4.11917808e-01, 4.31485323e-01, 4.51052838e-01,\n",
       "        4.70620352e-01, 4.90187867e-01, 5.09755382e-01, 5.29322896e-01,\n",
       "        5.48890411e-01, 5.68457926e-01, 5.88025440e-01, 6.07592955e-01,\n",
       "        6.27160470e-01, 6.46727984e-01, 6.66295499e-01, 6.85863014e-01,\n",
       "        7.05430528e-01, 7.24998043e-01, 7.44565558e-01, 7.64133072e-01,\n",
       "        7.83700587e-01, 8.03268102e-01, 8.22835616e-01, 8.42403131e-01,\n",
       "        8.61970646e-01, 8.81538160e-01, 9.01105675e-01, 9.20673190e-01,\n",
       "        9.40240705e-01, 9.59808219e-01, 9.79375734e-01, 9.98943249e-01,\n",
       "        1.01851076e+00, 1.03807828e+00, 1.05764579e+00, 1.07721331e+00,\n",
       "        1.09678082e+00, 1.11634834e+00, 1.13591585e+00, 1.15548337e+00,\n",
       "        1.17505088e+00, 1.19461840e+00, 1.21418591e+00, 1.23375342e+00,\n",
       "        1.25332094e+00, 1.27288845e+00, 1.29245597e+00, 1.31202348e+00,\n",
       "        1.33159100e+00, 1.35115851e+00, 1.37072603e+00, 1.39029354e+00,\n",
       "        1.40986106e+00, 1.42942857e+00, 1.44899609e+00, 1.46856360e+00,\n",
       "        1.48813112e+00, 1.50769863e+00, 1.52726614e+00, 1.54683366e+00,\n",
       "        1.56640117e+00, 1.58596869e+00, 1.60553620e+00, 1.62510372e+00,\n",
       "        1.64467123e+00, 1.66423875e+00, 1.68380626e+00, 1.70337378e+00,\n",
       "        1.72294129e+00, 1.74250881e+00, 1.76207632e+00, 1.78164384e+00,\n",
       "        1.80121135e+00, 1.82077886e+00, 1.84034638e+00, 1.85991389e+00,\n",
       "        1.87948141e+00, 1.89904892e+00, 1.91861644e+00, 1.93818395e+00,\n",
       "        1.95775147e+00, 1.97731898e+00, 1.99688650e+00, 2.01645401e+00,\n",
       "        2.03602153e+00, 2.05558904e+00, 2.07515656e+00, 2.09472407e+00,\n",
       "        2.11429159e+00, 2.13385910e+00, 2.15342661e+00, 2.17299413e+00,\n",
       "        2.19256164e+00, 2.21212916e+00, 2.23169667e+00, 2.25126419e+00,\n",
       "        2.27083170e+00, 2.29039922e+00, 2.30996673e+00, 2.32953425e+00,\n",
       "        2.34910176e+00, 2.36866928e+00, 2.38823679e+00, 2.40780431e+00,\n",
       "        2.42737182e+00, 2.44693933e+00, 2.46650685e+00, 2.48607436e+00]),\n",
       " array([2.50564188, 2.52520939, 2.54477691, 2.56434442, 2.58391194,\n",
       "        2.60347945, 2.62304697, 2.64261448, 2.662182  , 2.68174951,\n",
       "        2.70131703, 2.72088454, 2.74045205, 2.76001957, 2.77958708,\n",
       "        2.7991546 , 2.81872211, 2.83828963, 2.85785714, 2.87742466,\n",
       "        2.89699217, 2.91655969, 2.9361272 , 2.95569472, 2.97526223,\n",
       "        2.99482975, 3.01439726, 3.03396477, 3.05353229, 3.0730998 ,\n",
       "        3.09266732, 3.11223483, 3.13180235, 3.15136986, 3.17093738,\n",
       "        3.19050489, 3.21007241, 3.22963992, 3.24920744, 3.26877495,\n",
       "        3.28834247, 3.30790998, 3.3274775 , 3.34704501, 3.36661252,\n",
       "        3.38618004, 3.40574755, 3.42531507, 3.44488258, 3.4644501 ,\n",
       "        3.48401761, 3.50358513, 3.52315264, 3.54272016, 3.56228767,\n",
       "        3.58185519, 3.6014227 , 3.62099022, 3.64055773, 3.66012524,\n",
       "        3.67969276, 3.69926027, 3.71882779, 3.7383953 , 3.75796282,\n",
       "        3.77753033, 3.79709785, 3.81666536, 3.83623288, 3.85580039,\n",
       "        3.87536791, 3.89493542, 3.91450294, 3.93407045, 3.95363796,\n",
       "        3.97320548, 3.99277299, 4.01234051, 4.03190802, 4.05147554,\n",
       "        4.07104305, 4.09061057, 4.11017808, 4.1297456 , 4.14931311,\n",
       "        4.16888063, 4.18844814, 4.20801566, 4.22758317, 4.24715068,\n",
       "        4.2667182 , 4.28628571, 4.30585323, 4.32542074, 4.34498826,\n",
       "        4.36455577, 4.38412329, 4.4036908 , 4.42325832, 4.44282583,\n",
       "        4.46239335, 4.48196086, 4.50152838, 4.52109589, 4.54066341,\n",
       "        4.56023092, 4.57979843, 4.59936595, 4.61893346, 4.63850098,\n",
       "        4.65806849, 4.67763601, 4.69720352, 4.71677104, 4.73633855,\n",
       "        4.75590607, 4.77547358, 4.7950411 , 4.81460861, 4.83417613,\n",
       "        4.85374364, 4.87331115, 4.89287867, 4.91244618, 4.9320137 ,\n",
       "        4.95158121, 4.97114873, 4.99071624]),\n",
       " array([5.01028376, 5.02985127, 5.04941879, 5.0689863 , 5.08855382,\n",
       "        5.10812133, 5.12768885, 5.14725636, 5.16682387, 5.18639139,\n",
       "        5.2059589 , 5.22552642, 5.24509393, 5.26466145, 5.28422896,\n",
       "        5.30379648, 5.32336399, 5.34293151, 5.36249902, 5.38206654,\n",
       "        5.40163405, 5.42120157, 5.44076908, 5.46033659, 5.47990411,\n",
       "        5.49947162, 5.51903914, 5.53860665, 5.55817417, 5.57774168,\n",
       "        5.5973092 , 5.61687671, 5.63644423, 5.65601174, 5.67557926,\n",
       "        5.69514677, 5.71471429, 5.7342818 , 5.75384932, 5.77341683,\n",
       "        5.79298434, 5.81255186, 5.83211937, 5.85168689, 5.8712544 ,\n",
       "        5.89082192, 5.91038943, 5.92995695, 5.94952446, 5.96909198,\n",
       "        5.98865949, 6.00822701, 6.02779452, 6.04736204, 6.06692955,\n",
       "        6.08649706, 6.10606458, 6.12563209, 6.14519961, 6.16476712,\n",
       "        6.18433464, 6.20390215, 6.22346967, 6.24303718, 6.2626047 ,\n",
       "        6.28217221, 6.30173973, 6.32130724, 6.34087476, 6.36044227,\n",
       "        6.38000978, 6.3995773 , 6.41914481, 6.43871233, 6.45827984,\n",
       "        6.47784736, 6.49741487, 6.51698239, 6.5365499 , 6.55611742,\n",
       "        6.57568493, 6.59525245, 6.61481996, 6.63438748, 6.65395499,\n",
       "        6.6735225 , 6.69309002, 6.71265753, 6.73222505, 6.75179256,\n",
       "        6.77136008, 6.79092759, 6.81049511, 6.83006262, 6.84963014,\n",
       "        6.86919765, 6.88876517, 6.90833268, 6.9279002 , 6.94746771,\n",
       "        6.96703523, 6.98660274, 7.00617025, 7.02573777, 7.04530528,\n",
       "        7.0648728 , 7.08444031, 7.10400783, 7.12357534, 7.14314286,\n",
       "        7.16271037, 7.18227789, 7.2018454 , 7.22141292, 7.24098043,\n",
       "        7.26054795, 7.28011546, 7.29968297, 7.31925049, 7.338818  ,\n",
       "        7.35838552, 7.37795303, 7.39752055, 7.41708806, 7.43665558,\n",
       "        7.45622309, 7.47579061, 7.49535812]),\n",
       " array([ 7.51492564,  7.53449315,  7.55406067,  7.57362818,  7.59319569,\n",
       "         7.61276321,  7.63233072,  7.65189824,  7.67146575,  7.69103327,\n",
       "         7.71060078,  7.7301683 ,  7.74973581,  7.76930333,  7.78887084,\n",
       "         7.80843836,  7.82800587,  7.84757339,  7.8671409 ,  7.88670841,\n",
       "         7.90627593,  7.92584344,  7.94541096,  7.96497847,  7.98454599,\n",
       "         8.0041135 ,  8.02368102,  8.04324853,  8.06281605,  8.08238356,\n",
       "         8.10195108,  8.12151859,  8.14108611,  8.16065362,  8.18022114,\n",
       "         8.19978865,  8.21935616,  8.23892368,  8.25849119,  8.27805871,\n",
       "         8.29762622,  8.31719374,  8.33676125,  8.35632877,  8.37589628,\n",
       "         8.3954638 ,  8.41503131,  8.43459883,  8.45416634,  8.47373386,\n",
       "         8.49330137,  8.51286888,  8.5324364 ,  8.55200391,  8.57157143,\n",
       "         8.59113894,  8.61070646,  8.63027397,  8.64984149,  8.669409  ,\n",
       "         8.68897652,  8.70854403,  8.72811155,  8.74767906,  8.76724658,\n",
       "         8.78681409,  8.8063816 ,  8.82594912,  8.84551663,  8.86508415,\n",
       "         8.88465166,  8.90421918,  8.92378669,  8.94335421,  8.96292172,\n",
       "         8.98248924,  9.00205675,  9.02162427,  9.04119178,  9.0607593 ,\n",
       "         9.08032681,  9.09989432,  9.11946184,  9.13902935,  9.15859687,\n",
       "         9.17816438,  9.1977319 ,  9.21729941,  9.23686693,  9.25643444,\n",
       "         9.27600196,  9.29556947,  9.31513699,  9.3347045 ,  9.35427202,\n",
       "         9.37383953,  9.39340705,  9.41297456,  9.43254207,  9.45210959,\n",
       "         9.4716771 ,  9.49124462,  9.51081213,  9.53037965,  9.54994716,\n",
       "         9.56951468,  9.58908219,  9.60864971,  9.62821722,  9.64778474,\n",
       "         9.66735225,  9.68691977,  9.70648728,  9.72605479,  9.74562231,\n",
       "         9.76518982,  9.78475734,  9.80432485,  9.82389237,  9.84345988,\n",
       "         9.8630274 ,  9.88259491,  9.90216243,  9.92172994,  9.94129746,\n",
       "         9.96086497,  9.98043249, 10.        ])]"
      ]
     },
     "execution_count": 18,
     "metadata": {},
     "output_type": "execute_result"
    }
   ],
   "source": [
    "np.split(np.linspace(0.001, 10, 512), 4)"
   ]
  },
  {
   "cell_type": "code",
   "execution_count": 19,
   "metadata": {},
   "outputs": [
    {
     "data": {
      "text/plain": [
       "<matplotlib.collections.PathCollection at 0x11037de50>"
      ]
     },
     "execution_count": 19,
     "metadata": {},
     "output_type": "execute_result"
    },
    {
     "data": {
      "image/png": "[encoded data removed]",
      "text/plain": [
       "<Figure size 1400x800 with 1 Axes>"
      ]
     },
     "metadata": {},
     "output_type": "display_data"
    }
   ],
   "source": [
    "plt.figure(figsize=(14,8))\n",
    "\n",
    "plt.scatter(data[\"Omega\"], data[\"coupling_strength\"], c=color_map, s=40, marker=\"s\")"
   ]
  },
  {
   "cell_type": "code",
   "execution_count": 9,
   "metadata": {},
   "outputs": [],
   "source": [
    "Omegas_tested_1 = loaded_data_1[\"Omega\"]\n",
    "Coupling_strengths_tested_1 = loaded_data_1[\"coupling_strength\"]\n",
    "Exceptions_1 = loaded_data_1[\"exception\"]\n",
    "Ratios_1 = np.array(loaded_data_1[\"calculated_ratio\"])"
   ]
  },
  {
   "cell_type": "code",
   "execution_count": 61,
   "metadata": {},
   "outputs": [],
   "source": [
    "# Omegas_tested_2 = loaded_data_2[\"Omega\"]\n",
    "# Coupling_strengths_tested_2 = loaded_data_2[\"coupling_strength\"]\n",
    "# Exceptions = loaded_data_2[\"exception\"]\n",
    "# Ratios_2 = np.array(loaded_data_2[\"calculated_ratio\"])\n",
    "\n",
    "# Omegas_tested_3 = loaded_data_3[\"Omega\"]\n",
    "# Coupling_strengths_tested_3 = loaded_data_3[\"coupling_strength\"]\n",
    "# Exceptions_3 = loaded_data_3[\"exception\"]\n",
    "# Ratios_3 = np.array(loaded_data_3[\"calculated_ratio\"])\n",
    "\n",
    "# Omegas_tested_4 = loaded_data_4[\"Omega\"]\n",
    "# Coupling_strengths_tested_4 = loaded_data_4[\"coupling_strength\"]\n",
    "# Exceptions_4 = loaded_data_4[\"exception\"]\n",
    "# Ratios_4 = np.array(loaded_data_4[\"calculated_ratio\"])\n",
    "\n",
    "# omegas_third = np.concatenate((Omegas_tested_3, Omegas_tested_4))\n",
    "# ratios_third = np.concatenate((Ratios_3, Ratios_4))\n",
    "# exceptions_third = np.concatenate((Exceptions_3, Exceptions_4))\n",
    "# coupling_strengts_third = np.concatenate((Coupling_strengths_tested_3, Coupling_strengths_tested_4))\n",
    "\n",
    "# Omegas_tested_5 = loaded_data_5[\"Omega\"]\n",
    "# Coupling_strengths_tested_5 = loaded_data_5[\"coupling_strength\"]\n",
    "# Exceptions_5 = loaded_data_5[\"exception\"]\n",
    "# Ratios_5 = np.array(loaded_data_5[\"calculated_ratio\"])\n",
    "\n",
    "# Omegas_tested_6 = loaded_data_6[\"Omega\"]\n",
    "# Coupling_strengths_tested_6 = loaded_data_6[\"coupling_strength\"]\n",
    "# Exceptions_6 = loaded_data_6[\"exception\"]\n",
    "# Ratios_6 = np.array(loaded_data_6[\"calculated_ratio\"])"
   ]
  },
  {
   "cell_type": "code",
   "execution_count": 20,
   "metadata": {},
   "outputs": [],
   "source": [
    "color_map_1 = [\n",
    "    'C0' if ratio - 1e-3 <= 0 <= ratio + 1e-3 else\n",
    "    'C2' if ratio - 8e-3 <= 0.1 <= ratio + 8e-3 else\n",
    "    'C3' if ratio - 1e-3 <= 0.2 <= ratio + 1e-3 else\n",
    "    'C4' if ratio - 1e-3 <= 0.3 <= ratio + 1e-3 else\n",
    "    'C5' if ratio - 1e-3 <= 0.4 <= ratio + 1e-3 else\n",
    "    # 'C5' if ratio - 1e-2 <= 3/4 <= ratio + 1e-2 else\n",
    "    # 'C1' if ratio - 1e-2 <= 1/1 <= ratio + 1e-2 else\n",
    "    # 'C2' if ratio - 1e-2 <= 3/2 <= ratio + 1e-2 else\n",
    "    # # 'C9' if ratio - 1e-2 <= 1.97 <= ratio + 1e-2 else\n",
    "    # 'C6' if ratio - 1e-2 <= 4/2 <= ratio + 1e-2 else\n",
    "    # 'C4' if ratio - 1e-2 <= 5/2 <= ratio + 1e-2 else\n",
    "    # 'C9' if ratio - 1e-2 <= 6/2 <= ratio + 1e-2 else\n",
    "    'red' if Exceptions_1[i] == True else\n",
    "    'gray'\n",
    "    for i, ratio in enumerate(Ratios_1.ravel())\n",
    "]"
   ]
  },
  {
   "cell_type": "code",
   "execution_count": 74,
   "metadata": {},
   "outputs": [],
   "source": [
    "color_map_2 = [\n",
    "    # 'C7' if ratio - 1e-2 <= 1/4 <= ratio + 1e-2 else\n",
    "    # 'C3' if ratio - 1e-2 <= 1/3 <= ratio + 1e-2 else\n",
    "    'C0' if ratio - 1e-2 <= 2/4 <= ratio + 1e-2 else\n",
    "    # 'C5' if ratio - 1e-2 <= 3/4 <= ratio + 1e-2 else\n",
    "    'C1' if ratio - 1e-2 <= 1/1 <= ratio + 1e-2 else\n",
    "    'C2' if ratio - 1e-2 <= 3/2 <= ratio + 1e-2 else\n",
    "    # 'C9' if ratio - 1e-2 <= 1.97 <= ratio + 1e-2 else\n",
    "    'C6' if ratio - 1e-2 <= 4/2 <= ratio + 1e-2 else\n",
    "    'C4' if ratio - 1e-2 <= 5/2 <= ratio + 1e-2 else\n",
    "    'C9' if ratio - 1e-2 <= 6/2 <= ratio + 1e-2 else\n",
    "    'red' if Exceptions_2[i] == True else\n",
    "    'white'\n",
    "    for i, ratio in enumerate(Ratios_2.ravel())\n",
    "]"
   ]
  },
  {
   "cell_type": "code",
   "execution_count": 75,
   "metadata": {},
   "outputs": [],
   "source": [
    "color_map_3 = [\n",
    "    # 'C7' if ratio - 1e-2 <= 1/4 <= ratio + 1e-2 else\n",
    "    # 'C3' if ratio - 1e-2 <= 1/3 <= ratio + 1e-2 else\n",
    "    'C0' if ratio - 1e-2 <= 2/4 <= ratio + 1e-2 else\n",
    "    # 'C5' if ratio - 1e-2 <= 3/4 <= ratio + 1e-2 else\n",
    "    'C1' if ratio - 1e-2 <= 1/1 <= ratio + 1e-2 else\n",
    "    'C2' if ratio - 1e-2 <= 3/2 <= ratio + 1e-2 else\n",
    "    # 'C9' if ratio - 1e-2 <= 1.97 <= ratio + 1e-2 else\n",
    "    'C6' if ratio - 1e-2 <= 4/2 <= ratio + 1e-2 else\n",
    "    'C4' if ratio - 1e-2 <= 5/2 <= ratio + 1e-2 else\n",
    "    'C9' if ratio - 1e-2 <= 6/2 <= ratio + 1e-2 else\n",
    "    'red' if Exceptions_3[i] == True else\n",
    "    'white'\n",
    "    for i, ratio in enumerate(Ratios_3.ravel())\n",
    "]\n",
    "\n",
    "color_map_4 = [\n",
    "    # 'C7' if ratio - 1e-2 <= 1/4 <= ratio + 1e-2 else\n",
    "    # 'C3' if ratio - 1e-2 <= 1/3 <= ratio + 1e-2 else\n",
    "    'C0' if ratio - 1e-2 <= 2/4 <= ratio + 1e-2 else\n",
    "    # 'C5' if ratio - 1e-2 <= 3/4 <= ratio + 1e-2 else\n",
    "    'C1' if ratio - 1e-2 <= 1/1 <= ratio + 1e-2 else\n",
    "    'C2' if ratio - 1e-2 <= 3/2 <= ratio + 1e-2 else\n",
    "    # 'C9' if ratio - 1e-2 <= 1.97 <= ratio + 1e-2 else\n",
    "    'C6' if ratio - 1e-2 <= 4/2 <= ratio + 1e-2 else\n",
    "    'C4' if ratio - 1e-2 <= 5/2 <= ratio + 1e-2 else\n",
    "    'C9' if ratio - 1e-2 <= 6/2 <= ratio + 1e-2 else\n",
    "    'red' if Exceptions_4[i] == True else\n",
    "    'white'\n",
    "    for i, ratio in enumerate(Ratios_4.ravel())\n",
    "]\n",
    "\n",
    "color_map_5 = [\n",
    "    # 'C7' if ratio - 1e-2 <= 1/4 <= ratio + 1e-2 else\n",
    "    # 'C3' if ratio - 1e-2 <= 1/3 <= ratio + 1e-2 else\n",
    "    'C0' if ratio - 1e-2 <= 2/4 <= ratio + 1e-2 else\n",
    "    # 'C5' if ratio - 1e-2 <= 3/4 <= ratio + 1e-2 else\n",
    "    'C1' if ratio - 1e-2 <= 1/1 <= ratio + 1e-2 else\n",
    "    'C2' if ratio - 1e-2 <= 3/2 <= ratio + 1e-2 else\n",
    "    # 'C9' if ratio - 1e-2 <= 1.97 <= ratio + 1e-2 else\n",
    "    'C6' if ratio - 1e-2 <= 4/2 <= ratio + 1e-2 else\n",
    "    'C4' if ratio - 1e-2 <= 5/2 <= ratio + 1e-2 else\n",
    "    'C9' if ratio - 1e-2 <= 6/2 <= ratio + 1e-2 else\n",
    "    'red' if Exceptions_5[i] == True else\n",
    "    'white'\n",
    "    for i, ratio in enumerate(Ratios_5.ravel())\n",
    "]\n",
    "\n",
    "color_map_6 = [\n",
    "    # 'C7' if ratio - 1e-2 <= 1/4 <= ratio + 1e-2 else\n",
    "    # 'C3' if ratio - 1e-2 <= 1/3 <= ratio + 1e-2 else\n",
    "    'C0' if ratio - 1e-2 <= 2/4 <= ratio + 1e-2 else\n",
    "    # 'C5' if ratio - 1e-2 <= 3/4 <= ratio + 1e-2 else\n",
    "    'C1' if ratio - 1e-2 <= 1/1 <= ratio + 1e-2 else\n",
    "    'C2' if ratio - 1e-2 <= 3/2 <= ratio + 1e-2 else\n",
    "    # 'C9' if ratio - 1e-2 <= 1.97 <= ratio + 1e-2 else\n",
    "    'C6' if ratio - 1e-2 <= 4/2 <= ratio + 1e-2 else\n",
    "    'C4' if ratio - 1e-2 <= 5/2 <= ratio + 1e-2 else\n",
    "    'C9' if ratio - 1e-2 <= 6/2 <= ratio + 1e-2 else\n",
    "    'red' if Exceptions_6[i] == True else\n",
    "    'white'\n",
    "    for i, ratio in enumerate(Ratios_6.ravel())\n",
    "]"
   ]
  },
  {
   "cell_type": "code",
   "execution_count": null,
   "metadata": {},
   "outputs": [],
   "source": []
  },
  {
   "cell_type": "code",
   "execution_count": null,
   "metadata": {},
   "outputs": [],
   "source": []
  },
  {
   "cell_type": "code",
   "execution_count": 21,
   "metadata": {},
   "outputs": [
    {
     "data": {
      "text/plain": [
       "Text(0.5, 0, 'External / Internal Period')"
      ]
     },
     "execution_count": 21,
     "metadata": {},
     "output_type": "execute_result"
    },
    {
     "data": {
      "image/png": "[encoded data removed]",
      "text/plain": [
       "<Figure size 1400x800 with 1 Axes>"
      ]
     },
     "metadata": {},
     "output_type": "display_data"
    }
   ],
   "source": [
    "plt.figure(figsize=(14,8))\n",
    "\n",
    "plt.scatter(Omegas_tested_1, Coupling_strengths_tested_1, c=color_map_1, s=40, marker=\"s\")\n",
    "# plt.scatter(Omegas_tested_2, Coupling_strengths_tested_2, c=color_map_2, s=40, marker=\"s\")\n",
    "# plt.scatter(Omegas_tested_4, Coupling_strengths_tested_4, c=color_map_4, s=40, marker=\"s\")\n",
    "# plt.scatter(Omegas_tested_5, Coupling_strengths_tested_5, c=color_map_5, s=40, marker=\"s\")\n",
    "# plt.scatter(Omegas_tested_6, Coupling_strengths_tested_6, c=color_map_6, s=40, marker=\"s\")\n",
    "# plt.scatter(Omegas_tested_2, Coupling_strengths_tested_2, c=color_map_2, s=40, marker=\"s\")\n",
    "\n",
    "plt.title(\"Arnold Tongues\", fontsize=20)\n",
    "plt.ylabel(\"Coupling Strength\", fontsize=16)\n",
    "plt.xlabel(\"External / Internal Period\", fontsize=16)"
   ]
  },
  {
   "cell_type": "code",
   "execution_count": null,
   "metadata": {},
   "outputs": [],
   "source": []
  }
 ],
 "metadata": {
  "kernelspec": {
   "display_name": "env",
   "language": "python",
   "name": "python3"
  },
  "language_info": {
   "codemirror_mode": {
    "name": "ipython",
    "version": 3
   },
   "file_extension": ".py",
   "mimetype": "text/x-python",
   "name": "python",
   "nbconvert_exporter": "python",
   "pygments_lexer": "ipython3",
   "version": "3.11.7"
  }
 },
 "nbformat": 4,
 "nbformat_minor": 2
}
