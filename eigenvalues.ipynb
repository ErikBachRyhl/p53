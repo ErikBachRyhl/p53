{
 "cells": [
  {
   "cell_type": "code",
   "execution_count": 6,
   "metadata": {},
   "outputs": [
    {
     "data": {
      "text/latex": [
       "$\\displaystyle \\left[\\begin{matrix}\\frac{M k_{2} p}{\\left(k_{3} + p\\right)^{2}} - \\frac{M k_{2}}{k_{3} + p} & 0 & - \\frac{k_{2} p}{k_{3} + p}\\\\2 k_{4} p & - k_{5} & 0\\\\0 & k_{6} & - k_{7}\\end{matrix}\\right]$"
      ],
      "text/plain": [
       "⎡  M⋅k₂⋅p     M⋅k₂        -k₂⋅p ⎤\n",
       "⎢───────── - ──────   0   ──────⎥\n",
       "⎢        2   k₃ + p       k₃ + p⎥\n",
       "⎢(k₃ + p)                       ⎥\n",
       "⎢                               ⎥\n",
       "⎢      2⋅k₄⋅p        -k₅    0   ⎥\n",
       "⎢                               ⎥\n",
       "⎣        0           k₆    -k₇  ⎦"
      ]
     },
     "metadata": {},
     "output_type": "display_data"
    }
   ],
   "source": [
    "import sympy as sp\n",
    "from sympy.abc import p, m, M\n",
    "from sympy import Matrix\n",
    "sp.init_printing()\n",
    "\n",
    "#definerer symbolerne for parameterne\n",
    "k1 = sp.Symbol('k1')\n",
    "k2 = sp.Symbol('k2')\n",
    "k3 = sp.Symbol('k3')\n",
    "k4 = sp.Symbol('k4')\n",
    "k5 = sp.Symbol('k5')\n",
    "k6 = sp.Symbol('k6')\n",
    "k7 = sp.Symbol('k7')\n",
    "\n",
    "#definerer funktioner\n",
    "dp = k1 - k2 * (M * p) / (k3 + p)\n",
    "dm = k4 * p**2 - k5 * m\n",
    "dM = k6 * m - k7 * M\n",
    "\n",
    "#udregner indgange jacobiantmatricen\n",
    "ddpdp = sp.diff(dp, p)\n",
    "ddpdm = sp.diff(dp, m)\n",
    "ddpdM = sp.diff(dp, M)\n",
    "ddmdp = sp.diff(dm, p)\n",
    "ddmdm = sp.diff(dm, m)\n",
    "ddmdM = sp.diff(dm, M)\n",
    "ddMdp = sp.diff(dM, p)\n",
    "ddMdm = sp.diff(dM, m)\n",
    "ddMdM = sp.diff(dM, M)\n",
    "\n",
    "#defienrer jacobiantmatricen\n",
    "jacobian = Matrix([[ddpdp, ddpdm, ddpdM], [ddmdp, ddmdm, ddmdM], [ddMdp, ddMdm, ddMdM]])\n",
    "\n",
    "display(jacobian)\n",
    "\n",
    "#laver funktion som udregner egenværdier med fikspunkt og k2 som input\n",
    "def eigenvals(fp, k1, k2, k3, k4, k5, k6, k7):\n",
    "    #indsætter paramtere og fikspunkt i jacobianten\n",
    "    ev_jac = jacobian.subs({p: fp[0], m: fp[1], M: fp[2], k1: k1, k2: k2, k3: k3, k4: k4, k5: k5, k6: k6, k7: k7})\n",
    "    #defienerer liste med nuller\n",
    "    eigenvalues = np.zeros(len(jacobian[0,:]))\n",
    "    #fylder listen ud med egenværdier\n",
    "    for i in range (len(jacobian[0,:])):\n",
    "        eigenvalues[i] = sp.re(list(ev_jac.eigenvals().keys())[i])\n",
    "    return eigenvalues"
   ]
  },
  {
   "cell_type": "code",
   "execution_count": 9,
   "metadata": {},
   "outputs": [
    {
     "ename": "NameError",
     "evalue": "name 'plt' is not defined",
     "output_type": "error",
     "traceback": [
      "\u001b[0;31m---------------------------------------------------------------------------\u001b[0m",
      "\u001b[0;31mNameError\u001b[0m                                 Traceback (most recent call last)",
      "\u001b[1;32m/Users/benjaminbang-hansen/Desktop/p53/eigenvalues.ipynb Cell 2\u001b[0m line \u001b[0;36m3\n\u001b[1;32m     <a href='vscode-notebook-cell:/Users/benjaminbang-hansen/Desktop/p53/eigenvalues.ipynb#W1sZmlsZQ%3D%3D?line=29'>30</a>\u001b[0m     plt\u001b[39m.\u001b[39mshow()\n\u001b[1;32m     <a href='vscode-notebook-cell:/Users/benjaminbang-hansen/Desktop/p53/eigenvalues.ipynb#W1sZmlsZQ%3D%3D?line=31'>32</a>\u001b[0m egenværdimatrix_eksempel \u001b[39m=\u001b[39m np\u001b[39m.\u001b[39marray([[\u001b[39m1\u001b[39m \u001b[39m+\u001b[39m \u001b[39m2\u001b[39mj, \u001b[39m3\u001b[39m \u001b[39m+\u001b[39m \u001b[39m4\u001b[39mj, \u001b[39m5\u001b[39m \u001b[39m+\u001b[39m \u001b[39m6\u001b[39mj],\n\u001b[1;32m     <a href='vscode-notebook-cell:/Users/benjaminbang-hansen/Desktop/p53/eigenvalues.ipynb#W1sZmlsZQ%3D%3D?line=32'>33</a>\u001b[0m                            [\u001b[39m2\u001b[39m \u001b[39m+\u001b[39m \u001b[39m3\u001b[39mj, \u001b[39m4\u001b[39m \u001b[39m+\u001b[39m \u001b[39m5\u001b[39mj, \u001b[39m6\u001b[39m \u001b[39m+\u001b[39m \u001b[39m7\u001b[39mj],\n\u001b[1;32m     <a href='vscode-notebook-cell:/Users/benjaminbang-hansen/Desktop/p53/eigenvalues.ipynb#W1sZmlsZQ%3D%3D?line=33'>34</a>\u001b[0m                            [\u001b[39m3\u001b[39m \u001b[39m+\u001b[39m \u001b[39m4\u001b[39mj, \u001b[39m5\u001b[39m \u001b[39m+\u001b[39m \u001b[39m6\u001b[39mj, \u001b[39m7\u001b[39m \u001b[39m+\u001b[39m \u001b[39m8\u001b[39mj]])\n\u001b[0;32m---> <a href='vscode-notebook-cell:/Users/benjaminbang-hansen/Desktop/p53/eigenvalues.ipynb#W1sZmlsZQ%3D%3D?line=35'>36</a>\u001b[0m plot_egenværdier(egenværdimatrix_eksempel)\n",
      "\u001b[1;32m/Users/benjaminbang-hansen/Desktop/p53/eigenvalues.ipynb Cell 2\u001b[0m line \u001b[0;36m6\n\u001b[1;32m      <a href='vscode-notebook-cell:/Users/benjaminbang-hansen/Desktop/p53/eigenvalues.ipynb#W1sZmlsZQ%3D%3D?line=3'>4</a>\u001b[0m \u001b[39mdef\u001b[39;00m \u001b[39mplot_egenværdier\u001b[39m(matrix_med_egenværdier):\n\u001b[0;32m----> <a href='vscode-notebook-cell:/Users/benjaminbang-hansen/Desktop/p53/eigenvalues.ipynb#W1sZmlsZQ%3D%3D?line=5'>6</a>\u001b[0m     plt\u001b[39m.\u001b[39mfigure(figsize\u001b[39m=\u001b[39m(\u001b[39m8\u001b[39m, \u001b[39m6\u001b[39m))\n\u001b[1;32m      <a href='vscode-notebook-cell:/Users/benjaminbang-hansen/Desktop/p53/eigenvalues.ipynb#W1sZmlsZQ%3D%3D?line=7'>8</a>\u001b[0m     \u001b[39mfor\u001b[39;00m i, row \u001b[39min\u001b[39;00m \u001b[39menumerate\u001b[39m(matrix_med_egenværdier):\n\u001b[1;32m      <a href='vscode-notebook-cell:/Users/benjaminbang-hansen/Desktop/p53/eigenvalues.ipynb#W1sZmlsZQ%3D%3D?line=8'>9</a>\u001b[0m         reel \u001b[39m=\u001b[39m [z\u001b[39m.\u001b[39mreal \u001b[39mfor\u001b[39;00m z \u001b[39min\u001b[39;00m row]\n",
      "\u001b[0;31mNameError\u001b[0m: name 'plt' is not defined"
     ]
    }
   ],
   "source": [
    "# Denne funktion tager en matrix med (komplekse) egenværdier og plotter dem i (Re, Im)-planet.\n",
    "# Hver sammenhørende række i matrixen har samme index (fordi de stammer fra samme værdi af k_2)\n",
    "#Husk nul-indeksering!! (jeg har korrigeret for det på plottet)\n",
    "def plot_egenværdier(matrix_med_egenværdier):\n",
    "\n",
    "    plt.figure(figsize=(8, 6))\n",
    "\n",
    "    for i, row in enumerate(matrix_med_egenværdier):\n",
    "        reel = [z.real for z in row]\n",
    "        imaginær = [z.imag for z in row]\n",
    "        plt.scatter(reel, imaginær, label=f'Row {i+1}')\n",
    "\n",
    "        for j, z in enumerate(row):\n",
    "            shift = 0.3\n",
    "            plt.text(z.real + shift, z.imag + shift, f'{i+1}', fontsize=9, ha='center', va='center', color=\"red\")\n",
    "    \n",
    "    plt.xlim(-max(abs(5+max(np.real(matrix_med_egenværdier).flatten())), abs(min(-5+np.real(matrix_med_egenværdier).flatten()))),\n",
    "              max(abs(5+max(np.real(matrix_med_egenværdier).flatten())), abs(min(-5+np.real(matrix_med_egenværdier).flatten()))))\n",
    "    plt.ylim(-max(abs(5+max(np.imag(matrix_med_egenværdier).flatten())), abs(min(-5+np.imag(matrix_med_egenværdier).flatten()))),\n",
    "              max(abs(5+max(np.imag(matrix_med_egenværdier).flatten())), abs(min(-5+np.imag(matrix_med_egenværdier).flatten()))))\n",
    "\n",
    "    plt.axhline(0, color='black', linewidth=2)\n",
    "    plt.axvline(0, color='black', linewidth=2)\n",
    "    \n",
    "    plt.xlabel('Reel')\n",
    "    plt.ylabel('Imaginær')\n",
    "    plt.title('Plot of egenværdier for varierende værdier af k2')\n",
    "    \n",
    "    plt.grid(True)\n",
    "    plt.show()\n",
    "\n",
    "egenværdimatrix_eksempel = np.array([[1 + 2j, 3 + 4j, 5 + 6j],\n",
    "                           [2 + 3j, 4 + 5j, 6 + 7j],\n",
    "                           [3 + 4j, 5 + 6j, 7 + 8j]])\n",
    "\n",
    "plot_egenværdier(egenværdimatrix_eksempel)"
   ]
  },
  {
   "cell_type": "code",
   "execution_count": 8,
   "metadata": {},
   "outputs": [],
   "source": [
    "#laver funktion som udregner egenværdier med numpy med fikspunkt og k2 som input\n",
    "def npeigenvals(fp, k1, k2, k3, k4, k5, k6, k7):\n",
    "    #indsætter paramtere og fikspunkt i jacobianten\n",
    "    ev_jac = jacobian.subs({p: fp[0], m: fp[1], M: fp[2], k1: k1, k2: k2, k3: k3, k4: k4, k5: k5, k6: k6, k7: k7})\n",
    "    #defienerer liste med nuller\n",
    "    e, v = LA.eig(ev_jac)\n",
    "    return e, v"
   ]
  }
 ],
 "metadata": {
  "kernelspec": {
   "display_name": "base",
   "language": "python",
   "name": "python3"
  },
  "language_info": {
   "codemirror_mode": {
    "name": "ipython",
    "version": 3
   },
   "file_extension": ".py",
   "mimetype": "text/x-python",
   "name": "python",
   "nbconvert_exporter": "python",
   "pygments_lexer": "ipython3",
   "version": "3.11.4"
  }
 },
 "nbformat": 4,
 "nbformat_minor": 2
}
