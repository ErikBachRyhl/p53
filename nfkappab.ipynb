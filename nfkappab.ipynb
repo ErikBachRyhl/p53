{
 "cells": [
  {
   "cell_type": "code",
   "execution_count": 27,
   "metadata": {},
   "outputs": [],
   "source": [
    "import numpy as np\n",
    "import matplotlib.pyplot as plt\n",
    "from multiprocessing import Pool\n",
    "import sympy as sp\n",
    "from scipy.integrate import solve_ivp\n",
    "from scipy.signal import find_peaks\n",
    "import cmath\n",
    "\n",
    "from runge_kutta import RungeKuttaLoose\n",
    "from plotting import *\n",
    "from eigenvalues import *\n",
    "from helper_functions import read_simulation, read_all_simulations"
   ]
  },
  {
   "cell_type": "code",
   "execution_count": 47,
   "metadata": {},
   "outputs": [],
   "source": [
    "# definerer parametre\n",
    "\n",
    "k_Nin = 5.4 # min^{-1}\n",
    "k_lin = 0.018 # min^{-1} \n",
    "k_t = 1.03 # mu * M^{-1} * min^{-1}\n",
    "k_tl = 0.24 # min^{-1}\n",
    "K_I = 0.035 # mu * M\n",
    "K_N = 0.029 # mu * M\n",
    "gamma_m = 0.017 # min^{-1}\n",
    "alpha = 1.05 # mu * M^{-1} * min^{-1}\n",
    "N_tot = 1 # mu * M\n",
    "k_a = 0.24 # min^{-1}\n",
    "k_i = 0.18 # min^{-1}\n",
    "k_p = 0.036 # min^{-1}\n",
    "k_A20 = 0.0018 # mu * M\n",
    "IKK_tot = 2.0 # mu * M\n",
    "A20 = 0.0026 # mu * M\n",
    "TNF = 0.5\n"
   ]
  },
  {
   "cell_type": "code",
   "execution_count": 56,
   "metadata": {},
   "outputs": [],
   "source": [
    "t_samlet = (0, 50000)\n",
    "\n",
    "N_n0, I_m0, I0, IKK_a0, IKK_i0 = 0.01, 0.01, 0.01, 0.01, 0.01\n",
    "\n",
    "y0 = [N_n0, I_m0, I0, IKK_a0, IKK_i0]"
   ]
  },
  {
   "cell_type": "code",
   "execution_count": 57,
   "metadata": {},
   "outputs": [],
   "source": [
    "#nu definerer vi ligninger til rungekutta\n",
    "\n",
    "def N_n_change(t, N_n, I_m, I, IKK_a, IKK_i):\n",
    "    dN_ndt = k_Nin * (N_tot - N_n)*K_I/(K_I+I)-k_lin*I*N_n/(K_N + N_n)\n",
    "    return dN_ndt\n",
    "\n",
    "def I_m_change(t, N_n, I_m, I, IKK_a, IKK_i):\n",
    "    dI_mdt = k_t * N_n**2 - gamma_m * I_m\n",
    "    return dI_mdt\n",
    "\n",
    "def I_change(t, N_n, I_m, I, IKK_a, IKK_i):\n",
    "    dIdt = k_tl*I_m - alpha * IKK_a * (N_tot-N_n)*I/(K_I + I)\n",
    "    return dIdt\n",
    "\n",
    "def IKK_a_change(t, N_n, I_m, I, IKK_a, IKK_i):\n",
    "    dIKK_adt = k_a * TNF * (IKK_tot - IKK_a - IKK_i) - k_i * IKK_a\n",
    "    return dIKK_adt\n",
    "\n",
    "def IKK_i_change(t, N_n, I_m, I, IKK_a, IKK_i):\n",
    "    dIKK_idt = k_i * IKK_a - k_p * IKK_i * k_A20 / (k_A20 + A20 * TNF)\n",
    "    return dIKK_idt\n",
    "\n",
    "def samlet_system_nfkb(t, y):\n",
    "    dydt = np.zeros_like(y)\n",
    "    dydt[0] = N_n_change(t, *y)\n",
    "    dydt[1] = I_m_change(t, *y)\n",
    "    dydt[2] = I_change(t, *y)\n",
    "    dydt[3] = IKK_a_change(t, *y)\n",
    "    dydt[4] = IKK_i_change(t, *y)\n",
    "    return dydt"
   ]
  },
  {
   "cell_type": "code",
   "execution_count": 58,
   "metadata": {},
   "outputs": [],
   "source": [
    "samlethedNFKB = solve_ivp(samlet_system_nfkb, t_samlet, y0, method='RK45')\n",
    "\n",
    "t, N_n, I_m, I, IKK_a, IKK_i = samlethedNFKB[\"t\"], samlethedNFKB[\"y\"][0], samlethedNFKB[\"y\"][1], samlethedNFKB[\"y\"][2], samlethedNFKB[\"y\"][3], samlethedNFKB[\"y\"][4]\n",
    "\n"
   ]
  },
  {
   "cell_type": "code",
   "execution_count": 61,
   "metadata": {},
   "outputs": [
    {
     "data": {
      "text/plain": [
       "<matplotlib.legend.Legend at 0x120da5ad0>"
      ]
     },
     "execution_count": 61,
     "metadata": {},
     "output_type": "execute_result"
    },
    {
     "data": {
      "image/png": "[encoded data removed]",
      "text/plain": [
       "<Figure size 640x480 with 1 Axes>"
      ]
     },
     "metadata": {},
     "output_type": "display_data"
    }
   ],
   "source": [
    "plt.plot(samlethedNFKB[\"t\"], samlethedNFKB[\"y\"][0])\n",
    "plt.plot(t, N_n, label='$N_n$')\n",
    "plt.plot(t, I_m, label='$I_M$')\n",
    "plt.plot(t, I, label='I')\n",
    "plt.plot(t, IKK_a, label='$IKK_a$')\n",
    "plt.plot(t, IKK_i, label='$IKK_i$')\n",
    "plt.legend()"
   ]
  },
  {
   "cell_type": "code",
   "execution_count": null,
   "metadata": {},
   "outputs": [],
   "source": []
  }
 ],
 "metadata": {
  "kernelspec": {
   "display_name": "Python 3",
   "language": "python",
   "name": "python3"
  },
  "language_info": {
   "codemirror_mode": {
    "name": "ipython",
    "version": 3
   },
   "file_extension": ".py",
   "mimetype": "text/x-python",
   "name": "python",
   "nbconvert_exporter": "python",
   "pygments_lexer": "ipython3",
   "version": "3.11.1"
  },
  "orig_nbformat": 4,
  "vscode": {
   "interpreter": {
    "hash": "aee8b7b246df8f9039afb4144a1f6fd8d2ca17a180786b69acc140d282b71a49"
   }
  }
 },
 "nbformat": 4,
 "nbformat_minor": 2
}
