{
 "cells": [
  {
   "cell_type": "code",
   "execution_count": 1,
   "metadata": {},
   "outputs": [],
   "source": [
    "import numpy as np\n",
    "import matplotlib.pyplot as plt\n",
    "import textwrap\n",
    "from multiprocessing import Pool\n",
    "# from mpl_toolkits.mplot3d import Axes3D\n",
    "\n",
    "from tqdm import tqdm # Progress bar\n",
    "\n",
    "from runge_kutta import RungeKuttaLoose\n",
    "from plotting import plot_systems_evolution_2d_3d, plot_systems_evolution_p53vsmdm2\n",
    "from eigenvalues import eigenvals, plot_egenværdier\n",
    "from helper_functions import "
   ]
  },
  {
   "cell_type": "code",
   "execution_count": 3,
   "metadata": {},
   "outputs": [],
   "source": []
  },
  {
   "cell_type": "code",
   "execution_count": 4,
   "metadata": {},
   "outputs": [
    {
     "ename": "NameError",
     "evalue": "name 'simulations_dict' is not defined",
     "output_type": "error",
     "traceback": [
      "\u001b[0;31m---------------------------------------------------------------------------\u001b[0m",
      "\u001b[0;31mNameError\u001b[0m                                 Traceback (most recent call last)",
      "Cell \u001b[0;32mIn[4], line 1\u001b[0m\n\u001b[0;32m----> 1\u001b[0m simulations_with_fixed_points \u001b[38;5;241m=\u001b[39m find_fixed_points_simulations(\u001b[43msimulations_dict\u001b[49m)\n",
      "\u001b[0;31mNameError\u001b[0m: name 'simulations_dict' is not defined"
     ]
    }
   ],
   "source": [
    "simulations_with_fixed_points = find_fixed_points_simulations(simulations_dict)"
   ]
  },
  {
   "cell_type": "code",
   "execution_count": null,
   "metadata": {},
   "outputs": [],
   "source": [
    "plot_systems_evolution_2d_3d(simulations = simulations_dict, single_fig = False, dpi = 50, filename = \"testing\", save_fig=False)"
   ]
  },
  {
   "cell_type": "code",
   "execution_count": null,
   "metadata": {},
   "outputs": [],
   "source": [
    "plot_systems_evolution_p53vsmdm2(simulations = simulations_dict, single_fig = False, dpi = 50, filename = \"testing\", save_fig=False)"
   ]
  },
  {
   "cell_type": "code",
   "execution_count": null,
   "metadata": {},
   "outputs": [],
   "source": [
    "# sliced = sliced_simulations(simulations_dict, 60000, 70000)\n",
    "sliced2 = sliced_simulations(simulations_dict, 9000, 10000)\n",
    "# plot_systems_evolution_2d_3d(sliced, save_fig=True, filename=\"der_hvor_det_sker\")\n",
    "plot_systems_evolution_p53vsmdm2(sliced2, save_fig=False, filename=\"p53vsmdm2\", single_fig=False)"
   ]
  },
  {
   "cell_type": "code",
   "execution_count": null,
   "metadata": {},
   "outputs": [],
   "source": [
    "# fp_tætpåk2c = find_fixed_points_simulations(simulations_dict[\"trajectory\"][\"p\"])\n",
    "\n",
    "# simulations.append({\"k2_val\": k2, \"trajectory\": {\"p\": p, \"m\": m, \"M\": M}, \"time\": time_arr})\n",
    "print(simulations_dict)"
   ]
  },
  {
   "cell_type": "code",
   "execution_count": null,
   "metadata": {},
   "outputs": [],
   "source": [
    "def plot_sim_resultater(t, p, m, M):\n",
    "    #tidslig udvikling\n",
    "    plt.figure(figsize=(12,6))\n",
    "    plt.subplot(1,2,1)\n",
    "    plt.plot(t, p, label='p')\n",
    "    plt.plot(t, m, label='m')\n",
    "    plt.plot(t, M, label='M')\n",
    "    plt.xlabel('Tid')\n",
    "    plt.ylabel('Værdi')\n",
    "    plt.title('Tidslig udvikling')\n",
    "\n",
    "    #phase space\n",
    "    ax = plt.subplot(1,2,2, projection = '3d')\n",
    "    ax.plot_surface(p,m,M, cmap='viridis')\n",
    "    ax.set_xlabel('p')\n",
    "    ax.set_ylabel('m')\n",
    "    ax.set_zlabel('M')\n",
    "    ax.set_title('Phase Space')\n",
    "    plt.grid(True)\n",
    "    plt.show()"
   ]
  },
  {
   "cell_type": "code",
   "execution_count": null,
   "metadata": {},
   "outputs": [],
   "source": [
    "egenværdimatrix_eksempel = np.array([[1 + 2j, 3 + 4j, 5 + 6j],\n",
    "                           [2 + 3j, 4 + 5j, 6 + 7j],\n",
    "                           [3 + 4j, 5 + 6j, 7 + 8j]])\n",
    "\n",
    "plot_egenværdier(egenværdimatrix_eksempel)"
   ]
  }
 ],
 "metadata": {
  "kernelspec": {
   "display_name": "Python 3",
   "language": "python",
   "name": "python3"
  },
  "language_info": {
   "codemirror_mode": {
    "name": "ipython",
    "version": 3
   },
   "file_extension": ".py",
   "mimetype": "text/x-python",
   "name": "python",
   "nbconvert_exporter": "python",
   "pygments_lexer": "ipython3",
   "version": "3.11.7"
  }
 },
 "nbformat": 4,
 "nbformat_minor": 2
}
